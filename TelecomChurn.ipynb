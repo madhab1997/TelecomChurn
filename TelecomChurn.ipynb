{
 "cells": [
  {
   "cell_type": "code",
   "execution_count": 1,
   "id": "d6858f76",
   "metadata": {},
   "outputs": [],
   "source": [
    "# PROBLEM STATEMENT- Predicting the customer-Churn (YES/NO) based on various features."
   ]
  },
  {
   "cell_type": "markdown",
   "id": "a74878fa",
   "metadata": {},
   "source": [
    "# Importing Necessary Libraries"
   ]
  },
  {
   "cell_type": "code",
   "execution_count": 2,
   "id": "0de1402a",
   "metadata": {},
   "outputs": [],
   "source": [
    "import pandas as pd\n",
    "import numpy as np\n",
    "import matplotlib.pyplot as plt\n",
    "%matplotlib inline "
   ]
  },
  {
   "cell_type": "code",
   "execution_count": 3,
   "id": "9173a168",
   "metadata": {},
   "outputs": [
    {
     "name": "stdout",
     "output_type": "stream",
     "text": [
      "C:\\Users\\ADMIN\\Desktop\\PYTHON\\PYTHON MOCK TEST\n"
     ]
    }
   ],
   "source": [
    "import io\n",
    "%cd \"C:\\Users\\ADMIN\\Desktop\\PYTHON\\PYTHON MOCK TEST\" "
   ]
  },
  {
   "cell_type": "code",
   "execution_count": 4,
   "id": "4ab63850",
   "metadata": {},
   "outputs": [],
   "source": [
    "telecomchurn=pd.read_csv(\"WA_Fn-UseC_-Telco-Customer-Churn.csv\")"
   ]
  },
  {
   "cell_type": "code",
   "execution_count": 5,
   "id": "10fcf87f",
   "metadata": {},
   "outputs": [
    {
     "data": {
      "text/html": [
       "<div>\n",
       "<style scoped>\n",
       "    .dataframe tbody tr th:only-of-type {\n",
       "        vertical-align: middle;\n",
       "    }\n",
       "\n",
       "    .dataframe tbody tr th {\n",
       "        vertical-align: top;\n",
       "    }\n",
       "\n",
       "    .dataframe thead th {\n",
       "        text-align: right;\n",
       "    }\n",
       "</style>\n",
       "<table border=\"1\" class=\"dataframe\">\n",
       "  <thead>\n",
       "    <tr style=\"text-align: right;\">\n",
       "      <th></th>\n",
       "      <th>customerID</th>\n",
       "      <th>gender</th>\n",
       "      <th>SeniorCitizen</th>\n",
       "      <th>Partner</th>\n",
       "      <th>Dependents</th>\n",
       "      <th>tenure</th>\n",
       "      <th>PhoneService</th>\n",
       "      <th>MultipleLines</th>\n",
       "      <th>InternetService</th>\n",
       "      <th>OnlineSecurity</th>\n",
       "      <th>...</th>\n",
       "      <th>DeviceProtection</th>\n",
       "      <th>TechSupport</th>\n",
       "      <th>StreamingTV</th>\n",
       "      <th>StreamingMovies</th>\n",
       "      <th>Contract</th>\n",
       "      <th>PaperlessBilling</th>\n",
       "      <th>PaymentMethod</th>\n",
       "      <th>MonthlyCharges</th>\n",
       "      <th>TotalCharges</th>\n",
       "      <th>Churn</th>\n",
       "    </tr>\n",
       "  </thead>\n",
       "  <tbody>\n",
       "    <tr>\n",
       "      <th>0</th>\n",
       "      <td>7590-VHVEG</td>\n",
       "      <td>Female</td>\n",
       "      <td>0</td>\n",
       "      <td>Yes</td>\n",
       "      <td>No</td>\n",
       "      <td>1</td>\n",
       "      <td>No</td>\n",
       "      <td>No phone service</td>\n",
       "      <td>DSL</td>\n",
       "      <td>No</td>\n",
       "      <td>...</td>\n",
       "      <td>No</td>\n",
       "      <td>No</td>\n",
       "      <td>No</td>\n",
       "      <td>No</td>\n",
       "      <td>Month-to-month</td>\n",
       "      <td>Yes</td>\n",
       "      <td>Electronic check</td>\n",
       "      <td>29.85</td>\n",
       "      <td>29.85</td>\n",
       "      <td>No</td>\n",
       "    </tr>\n",
       "    <tr>\n",
       "      <th>1</th>\n",
       "      <td>5575-GNVDE</td>\n",
       "      <td>Male</td>\n",
       "      <td>0</td>\n",
       "      <td>No</td>\n",
       "      <td>No</td>\n",
       "      <td>34</td>\n",
       "      <td>Yes</td>\n",
       "      <td>No</td>\n",
       "      <td>DSL</td>\n",
       "      <td>Yes</td>\n",
       "      <td>...</td>\n",
       "      <td>Yes</td>\n",
       "      <td>No</td>\n",
       "      <td>No</td>\n",
       "      <td>No</td>\n",
       "      <td>One year</td>\n",
       "      <td>No</td>\n",
       "      <td>Mailed check</td>\n",
       "      <td>56.95</td>\n",
       "      <td>1889.5</td>\n",
       "      <td>No</td>\n",
       "    </tr>\n",
       "    <tr>\n",
       "      <th>2</th>\n",
       "      <td>3668-QPYBK</td>\n",
       "      <td>Male</td>\n",
       "      <td>0</td>\n",
       "      <td>No</td>\n",
       "      <td>No</td>\n",
       "      <td>2</td>\n",
       "      <td>Yes</td>\n",
       "      <td>No</td>\n",
       "      <td>DSL</td>\n",
       "      <td>Yes</td>\n",
       "      <td>...</td>\n",
       "      <td>No</td>\n",
       "      <td>No</td>\n",
       "      <td>No</td>\n",
       "      <td>No</td>\n",
       "      <td>Month-to-month</td>\n",
       "      <td>Yes</td>\n",
       "      <td>Mailed check</td>\n",
       "      <td>53.85</td>\n",
       "      <td>108.15</td>\n",
       "      <td>Yes</td>\n",
       "    </tr>\n",
       "    <tr>\n",
       "      <th>3</th>\n",
       "      <td>7795-CFOCW</td>\n",
       "      <td>Male</td>\n",
       "      <td>0</td>\n",
       "      <td>No</td>\n",
       "      <td>No</td>\n",
       "      <td>45</td>\n",
       "      <td>No</td>\n",
       "      <td>No phone service</td>\n",
       "      <td>DSL</td>\n",
       "      <td>Yes</td>\n",
       "      <td>...</td>\n",
       "      <td>Yes</td>\n",
       "      <td>Yes</td>\n",
       "      <td>No</td>\n",
       "      <td>No</td>\n",
       "      <td>One year</td>\n",
       "      <td>No</td>\n",
       "      <td>Bank transfer (automatic)</td>\n",
       "      <td>42.30</td>\n",
       "      <td>1840.75</td>\n",
       "      <td>No</td>\n",
       "    </tr>\n",
       "    <tr>\n",
       "      <th>4</th>\n",
       "      <td>9237-HQITU</td>\n",
       "      <td>Female</td>\n",
       "      <td>0</td>\n",
       "      <td>No</td>\n",
       "      <td>No</td>\n",
       "      <td>2</td>\n",
       "      <td>Yes</td>\n",
       "      <td>No</td>\n",
       "      <td>Fiber optic</td>\n",
       "      <td>No</td>\n",
       "      <td>...</td>\n",
       "      <td>No</td>\n",
       "      <td>No</td>\n",
       "      <td>No</td>\n",
       "      <td>No</td>\n",
       "      <td>Month-to-month</td>\n",
       "      <td>Yes</td>\n",
       "      <td>Electronic check</td>\n",
       "      <td>70.70</td>\n",
       "      <td>151.65</td>\n",
       "      <td>Yes</td>\n",
       "    </tr>\n",
       "  </tbody>\n",
       "</table>\n",
       "<p>5 rows × 21 columns</p>\n",
       "</div>"
      ],
      "text/plain": [
       "   customerID  gender  SeniorCitizen Partner Dependents  tenure PhoneService  \\\n",
       "0  7590-VHVEG  Female              0     Yes         No       1           No   \n",
       "1  5575-GNVDE    Male              0      No         No      34          Yes   \n",
       "2  3668-QPYBK    Male              0      No         No       2          Yes   \n",
       "3  7795-CFOCW    Male              0      No         No      45           No   \n",
       "4  9237-HQITU  Female              0      No         No       2          Yes   \n",
       "\n",
       "      MultipleLines InternetService OnlineSecurity  ... DeviceProtection  \\\n",
       "0  No phone service             DSL             No  ...               No   \n",
       "1                No             DSL            Yes  ...              Yes   \n",
       "2                No             DSL            Yes  ...               No   \n",
       "3  No phone service             DSL            Yes  ...              Yes   \n",
       "4                No     Fiber optic             No  ...               No   \n",
       "\n",
       "  TechSupport StreamingTV StreamingMovies        Contract PaperlessBilling  \\\n",
       "0          No          No              No  Month-to-month              Yes   \n",
       "1          No          No              No        One year               No   \n",
       "2          No          No              No  Month-to-month              Yes   \n",
       "3         Yes          No              No        One year               No   \n",
       "4          No          No              No  Month-to-month              Yes   \n",
       "\n",
       "               PaymentMethod MonthlyCharges  TotalCharges Churn  \n",
       "0           Electronic check          29.85         29.85    No  \n",
       "1               Mailed check          56.95        1889.5    No  \n",
       "2               Mailed check          53.85        108.15   Yes  \n",
       "3  Bank transfer (automatic)          42.30       1840.75    No  \n",
       "4           Electronic check          70.70        151.65   Yes  \n",
       "\n",
       "[5 rows x 21 columns]"
      ]
     },
     "execution_count": 5,
     "metadata": {},
     "output_type": "execute_result"
    }
   ],
   "source": [
    "telecomchurn.head()"
   ]
  },
  {
   "cell_type": "code",
   "execution_count": 6,
   "id": "1ea4b9d7",
   "metadata": {},
   "outputs": [],
   "source": [
    "telecomchurn.TotalCharges=pd.to_numeric(telecomchurn.TotalCharges,errors='coerce')"
   ]
  },
  {
   "cell_type": "code",
   "execution_count": 7,
   "id": "c47a3c25",
   "metadata": {},
   "outputs": [
    {
     "data": {
      "text/plain": [
       "customerID           0\n",
       "gender               0\n",
       "SeniorCitizen        0\n",
       "Partner              0\n",
       "Dependents           0\n",
       "tenure               0\n",
       "PhoneService         0\n",
       "MultipleLines        0\n",
       "InternetService      0\n",
       "OnlineSecurity       0\n",
       "OnlineBackup         0\n",
       "DeviceProtection     0\n",
       "TechSupport          0\n",
       "StreamingTV          0\n",
       "StreamingMovies      0\n",
       "Contract             0\n",
       "PaperlessBilling     0\n",
       "PaymentMethod        0\n",
       "MonthlyCharges       0\n",
       "TotalCharges        11\n",
       "Churn                0\n",
       "dtype: int64"
      ]
     },
     "execution_count": 7,
     "metadata": {},
     "output_type": "execute_result"
    }
   ],
   "source": [
    "telecomchurn.isna().sum()"
   ]
  },
  {
   "cell_type": "code",
   "execution_count": 8,
   "id": "2dd61bae",
   "metadata": {},
   "outputs": [],
   "source": [
    "telecomchurn.dropna(inplace=True) # HERE TotalCharges Having 0.15 % of empty spaces that's why we dropped that 11 rows bc it \n",
    "# will make significant impact to the model building."
   ]
  },
  {
   "cell_type": "code",
   "execution_count": 9,
   "id": "6eed2589",
   "metadata": {},
   "outputs": [
    {
     "data": {
      "text/plain": [
       "False"
      ]
     },
     "execution_count": 9,
     "metadata": {},
     "output_type": "execute_result"
    }
   ],
   "source": [
    "telecomchurn.isna().sum().any()"
   ]
  },
  {
   "cell_type": "code",
   "execution_count": 10,
   "id": "3c5114d9",
   "metadata": {},
   "outputs": [
    {
     "data": {
      "text/plain": [
       "count    7032.000000\n",
       "mean     2283.300441\n",
       "std      2266.771362\n",
       "min        18.800000\n",
       "25%       401.450000\n",
       "50%      1397.475000\n",
       "75%      3794.737500\n",
       "max      8684.800000\n",
       "Name: TotalCharges, dtype: float64"
      ]
     },
     "execution_count": 10,
     "metadata": {},
     "output_type": "execute_result"
    }
   ],
   "source": [
    "telecomchurn.TotalCharges.describe()"
   ]
  },
  {
   "cell_type": "code",
   "execution_count": 11,
   "id": "22675dd3",
   "metadata": {},
   "outputs": [
    {
     "data": {
      "text/html": [
       "<div>\n",
       "<style scoped>\n",
       "    .dataframe tbody tr th:only-of-type {\n",
       "        vertical-align: middle;\n",
       "    }\n",
       "\n",
       "    .dataframe tbody tr th {\n",
       "        vertical-align: top;\n",
       "    }\n",
       "\n",
       "    .dataframe thead th {\n",
       "        text-align: right;\n",
       "    }\n",
       "</style>\n",
       "<table border=\"1\" class=\"dataframe\">\n",
       "  <thead>\n",
       "    <tr style=\"text-align: right;\">\n",
       "      <th></th>\n",
       "      <th>customerID</th>\n",
       "      <th>gender</th>\n",
       "      <th>SeniorCitizen</th>\n",
       "      <th>Partner</th>\n",
       "      <th>Dependents</th>\n",
       "      <th>tenure</th>\n",
       "      <th>PhoneService</th>\n",
       "      <th>MultipleLines</th>\n",
       "      <th>InternetService</th>\n",
       "      <th>OnlineSecurity</th>\n",
       "      <th>...</th>\n",
       "      <th>DeviceProtection</th>\n",
       "      <th>TechSupport</th>\n",
       "      <th>StreamingTV</th>\n",
       "      <th>StreamingMovies</th>\n",
       "      <th>Contract</th>\n",
       "      <th>PaperlessBilling</th>\n",
       "      <th>PaymentMethod</th>\n",
       "      <th>MonthlyCharges</th>\n",
       "      <th>TotalCharges</th>\n",
       "      <th>Churn</th>\n",
       "    </tr>\n",
       "  </thead>\n",
       "  <tbody>\n",
       "    <tr>\n",
       "      <th>7038</th>\n",
       "      <td>6840-RESVB</td>\n",
       "      <td>Male</td>\n",
       "      <td>0</td>\n",
       "      <td>Yes</td>\n",
       "      <td>Yes</td>\n",
       "      <td>24</td>\n",
       "      <td>Yes</td>\n",
       "      <td>Yes</td>\n",
       "      <td>DSL</td>\n",
       "      <td>Yes</td>\n",
       "      <td>...</td>\n",
       "      <td>Yes</td>\n",
       "      <td>Yes</td>\n",
       "      <td>Yes</td>\n",
       "      <td>Yes</td>\n",
       "      <td>One year</td>\n",
       "      <td>Yes</td>\n",
       "      <td>Mailed check</td>\n",
       "      <td>84.80</td>\n",
       "      <td>1990.50</td>\n",
       "      <td>No</td>\n",
       "    </tr>\n",
       "    <tr>\n",
       "      <th>7039</th>\n",
       "      <td>2234-XADUH</td>\n",
       "      <td>Female</td>\n",
       "      <td>0</td>\n",
       "      <td>Yes</td>\n",
       "      <td>Yes</td>\n",
       "      <td>72</td>\n",
       "      <td>Yes</td>\n",
       "      <td>Yes</td>\n",
       "      <td>Fiber optic</td>\n",
       "      <td>No</td>\n",
       "      <td>...</td>\n",
       "      <td>Yes</td>\n",
       "      <td>No</td>\n",
       "      <td>Yes</td>\n",
       "      <td>Yes</td>\n",
       "      <td>One year</td>\n",
       "      <td>Yes</td>\n",
       "      <td>Credit card (automatic)</td>\n",
       "      <td>103.20</td>\n",
       "      <td>7362.90</td>\n",
       "      <td>No</td>\n",
       "    </tr>\n",
       "    <tr>\n",
       "      <th>7040</th>\n",
       "      <td>4801-JZAZL</td>\n",
       "      <td>Female</td>\n",
       "      <td>0</td>\n",
       "      <td>Yes</td>\n",
       "      <td>Yes</td>\n",
       "      <td>11</td>\n",
       "      <td>No</td>\n",
       "      <td>No phone service</td>\n",
       "      <td>DSL</td>\n",
       "      <td>Yes</td>\n",
       "      <td>...</td>\n",
       "      <td>No</td>\n",
       "      <td>No</td>\n",
       "      <td>No</td>\n",
       "      <td>No</td>\n",
       "      <td>Month-to-month</td>\n",
       "      <td>Yes</td>\n",
       "      <td>Electronic check</td>\n",
       "      <td>29.60</td>\n",
       "      <td>346.45</td>\n",
       "      <td>No</td>\n",
       "    </tr>\n",
       "    <tr>\n",
       "      <th>7041</th>\n",
       "      <td>8361-LTMKD</td>\n",
       "      <td>Male</td>\n",
       "      <td>1</td>\n",
       "      <td>Yes</td>\n",
       "      <td>No</td>\n",
       "      <td>4</td>\n",
       "      <td>Yes</td>\n",
       "      <td>Yes</td>\n",
       "      <td>Fiber optic</td>\n",
       "      <td>No</td>\n",
       "      <td>...</td>\n",
       "      <td>No</td>\n",
       "      <td>No</td>\n",
       "      <td>No</td>\n",
       "      <td>No</td>\n",
       "      <td>Month-to-month</td>\n",
       "      <td>Yes</td>\n",
       "      <td>Mailed check</td>\n",
       "      <td>74.40</td>\n",
       "      <td>306.60</td>\n",
       "      <td>Yes</td>\n",
       "    </tr>\n",
       "    <tr>\n",
       "      <th>7042</th>\n",
       "      <td>3186-AJIEK</td>\n",
       "      <td>Male</td>\n",
       "      <td>0</td>\n",
       "      <td>No</td>\n",
       "      <td>No</td>\n",
       "      <td>66</td>\n",
       "      <td>Yes</td>\n",
       "      <td>No</td>\n",
       "      <td>Fiber optic</td>\n",
       "      <td>Yes</td>\n",
       "      <td>...</td>\n",
       "      <td>Yes</td>\n",
       "      <td>Yes</td>\n",
       "      <td>Yes</td>\n",
       "      <td>Yes</td>\n",
       "      <td>Two year</td>\n",
       "      <td>Yes</td>\n",
       "      <td>Bank transfer (automatic)</td>\n",
       "      <td>105.65</td>\n",
       "      <td>6844.50</td>\n",
       "      <td>No</td>\n",
       "    </tr>\n",
       "  </tbody>\n",
       "</table>\n",
       "<p>5 rows × 21 columns</p>\n",
       "</div>"
      ],
      "text/plain": [
       "      customerID  gender  SeniorCitizen Partner Dependents  tenure  \\\n",
       "7038  6840-RESVB    Male              0     Yes        Yes      24   \n",
       "7039  2234-XADUH  Female              0     Yes        Yes      72   \n",
       "7040  4801-JZAZL  Female              0     Yes        Yes      11   \n",
       "7041  8361-LTMKD    Male              1     Yes         No       4   \n",
       "7042  3186-AJIEK    Male              0      No         No      66   \n",
       "\n",
       "     PhoneService     MultipleLines InternetService OnlineSecurity  ...  \\\n",
       "7038          Yes               Yes             DSL            Yes  ...   \n",
       "7039          Yes               Yes     Fiber optic             No  ...   \n",
       "7040           No  No phone service             DSL            Yes  ...   \n",
       "7041          Yes               Yes     Fiber optic             No  ...   \n",
       "7042          Yes                No     Fiber optic            Yes  ...   \n",
       "\n",
       "     DeviceProtection TechSupport StreamingTV StreamingMovies        Contract  \\\n",
       "7038              Yes         Yes         Yes             Yes        One year   \n",
       "7039              Yes          No         Yes             Yes        One year   \n",
       "7040               No          No          No              No  Month-to-month   \n",
       "7041               No          No          No              No  Month-to-month   \n",
       "7042              Yes         Yes         Yes             Yes        Two year   \n",
       "\n",
       "     PaperlessBilling              PaymentMethod MonthlyCharges  TotalCharges  \\\n",
       "7038              Yes               Mailed check          84.80       1990.50   \n",
       "7039              Yes    Credit card (automatic)         103.20       7362.90   \n",
       "7040              Yes           Electronic check          29.60        346.45   \n",
       "7041              Yes               Mailed check          74.40        306.60   \n",
       "7042              Yes  Bank transfer (automatic)         105.65       6844.50   \n",
       "\n",
       "      Churn  \n",
       "7038     No  \n",
       "7039     No  \n",
       "7040     No  \n",
       "7041    Yes  \n",
       "7042     No  \n",
       "\n",
       "[5 rows x 21 columns]"
      ]
     },
     "execution_count": 11,
     "metadata": {},
     "output_type": "execute_result"
    }
   ],
   "source": [
    "telecomchurn.tail()"
   ]
  },
  {
   "cell_type": "code",
   "execution_count": 12,
   "id": "cbda7adb",
   "metadata": {},
   "outputs": [
    {
     "data": {
      "text/plain": [
       "(7032, 21)"
      ]
     },
     "execution_count": 12,
     "metadata": {},
     "output_type": "execute_result"
    }
   ],
   "source": [
    "telecomchurn.shape"
   ]
  },
  {
   "cell_type": "code",
   "execution_count": 13,
   "id": "b50588a6",
   "metadata": {},
   "outputs": [
    {
     "data": {
      "text/plain": [
       "customerID           object\n",
       "gender               object\n",
       "SeniorCitizen         int64\n",
       "Partner              object\n",
       "Dependents           object\n",
       "tenure                int64\n",
       "PhoneService         object\n",
       "MultipleLines        object\n",
       "InternetService      object\n",
       "OnlineSecurity       object\n",
       "OnlineBackup         object\n",
       "DeviceProtection     object\n",
       "TechSupport          object\n",
       "StreamingTV          object\n",
       "StreamingMovies      object\n",
       "Contract             object\n",
       "PaperlessBilling     object\n",
       "PaymentMethod        object\n",
       "MonthlyCharges      float64\n",
       "TotalCharges        float64\n",
       "Churn                object\n",
       "dtype: object"
      ]
     },
     "execution_count": 13,
     "metadata": {},
     "output_type": "execute_result"
    }
   ],
   "source": [
    "telecomchurn.dtypes"
   ]
  },
  {
   "cell_type": "code",
   "execution_count": 14,
   "id": "2e2d23e3",
   "metadata": {},
   "outputs": [
    {
     "data": {
      "text/plain": [
       "Index(['customerID', 'gender', 'SeniorCitizen', 'Partner', 'Dependents',\n",
       "       'tenure', 'PhoneService', 'MultipleLines', 'InternetService',\n",
       "       'OnlineSecurity', 'OnlineBackup', 'DeviceProtection', 'TechSupport',\n",
       "       'StreamingTV', 'StreamingMovies', 'Contract', 'PaperlessBilling',\n",
       "       'PaymentMethod', 'MonthlyCharges', 'TotalCharges', 'Churn'],\n",
       "      dtype='object')"
      ]
     },
     "execution_count": 14,
     "metadata": {},
     "output_type": "execute_result"
    }
   ],
   "source": [
    "telecomchurn.columns"
   ]
  },
  {
   "cell_type": "code",
   "execution_count": 15,
   "id": "21ef2193",
   "metadata": {},
   "outputs": [
    {
     "data": {
      "text/plain": [
       "customerID          0\n",
       "DeviceProtection    0\n",
       "TotalCharges        0\n",
       "MonthlyCharges      0\n",
       "PaymentMethod       0\n",
       "PaperlessBilling    0\n",
       "Contract            0\n",
       "StreamingMovies     0\n",
       "StreamingTV         0\n",
       "TechSupport         0\n",
       "OnlineBackup        0\n",
       "gender              0\n",
       "OnlineSecurity      0\n",
       "InternetService     0\n",
       "MultipleLines       0\n",
       "PhoneService        0\n",
       "tenure              0\n",
       "Dependents          0\n",
       "Partner             0\n",
       "SeniorCitizen       0\n",
       "Churn               0\n",
       "dtype: int64"
      ]
     },
     "execution_count": 15,
     "metadata": {},
     "output_type": "execute_result"
    }
   ],
   "source": [
    "telecomchurn.isnull().sum().sort_values(ascending=False)\n",
    "# No missing value found"
   ]
  },
  {
   "cell_type": "code",
   "execution_count": 16,
   "id": "0c08cb06",
   "metadata": {},
   "outputs": [
    {
     "data": {
      "text/html": [
       "<div>\n",
       "<style scoped>\n",
       "    .dataframe tbody tr th:only-of-type {\n",
       "        vertical-align: middle;\n",
       "    }\n",
       "\n",
       "    .dataframe tbody tr th {\n",
       "        vertical-align: top;\n",
       "    }\n",
       "\n",
       "    .dataframe thead th {\n",
       "        text-align: right;\n",
       "    }\n",
       "</style>\n",
       "<table border=\"1\" class=\"dataframe\">\n",
       "  <thead>\n",
       "    <tr style=\"text-align: right;\">\n",
       "      <th></th>\n",
       "      <th>SeniorCitizen</th>\n",
       "      <th>tenure</th>\n",
       "      <th>MonthlyCharges</th>\n",
       "      <th>TotalCharges</th>\n",
       "    </tr>\n",
       "  </thead>\n",
       "  <tbody>\n",
       "    <tr>\n",
       "      <th>count</th>\n",
       "      <td>7032.000000</td>\n",
       "      <td>7032.000000</td>\n",
       "      <td>7032.000000</td>\n",
       "      <td>7032.000000</td>\n",
       "    </tr>\n",
       "    <tr>\n",
       "      <th>mean</th>\n",
       "      <td>0.162400</td>\n",
       "      <td>32.421786</td>\n",
       "      <td>64.798208</td>\n",
       "      <td>2283.300441</td>\n",
       "    </tr>\n",
       "    <tr>\n",
       "      <th>std</th>\n",
       "      <td>0.368844</td>\n",
       "      <td>24.545260</td>\n",
       "      <td>30.085974</td>\n",
       "      <td>2266.771362</td>\n",
       "    </tr>\n",
       "    <tr>\n",
       "      <th>min</th>\n",
       "      <td>0.000000</td>\n",
       "      <td>1.000000</td>\n",
       "      <td>18.250000</td>\n",
       "      <td>18.800000</td>\n",
       "    </tr>\n",
       "    <tr>\n",
       "      <th>25%</th>\n",
       "      <td>0.000000</td>\n",
       "      <td>9.000000</td>\n",
       "      <td>35.587500</td>\n",
       "      <td>401.450000</td>\n",
       "    </tr>\n",
       "    <tr>\n",
       "      <th>50%</th>\n",
       "      <td>0.000000</td>\n",
       "      <td>29.000000</td>\n",
       "      <td>70.350000</td>\n",
       "      <td>1397.475000</td>\n",
       "    </tr>\n",
       "    <tr>\n",
       "      <th>75%</th>\n",
       "      <td>0.000000</td>\n",
       "      <td>55.000000</td>\n",
       "      <td>89.862500</td>\n",
       "      <td>3794.737500</td>\n",
       "    </tr>\n",
       "    <tr>\n",
       "      <th>max</th>\n",
       "      <td>1.000000</td>\n",
       "      <td>72.000000</td>\n",
       "      <td>118.750000</td>\n",
       "      <td>8684.800000</td>\n",
       "    </tr>\n",
       "  </tbody>\n",
       "</table>\n",
       "</div>"
      ],
      "text/plain": [
       "       SeniorCitizen       tenure  MonthlyCharges  TotalCharges\n",
       "count    7032.000000  7032.000000     7032.000000   7032.000000\n",
       "mean        0.162400    32.421786       64.798208   2283.300441\n",
       "std         0.368844    24.545260       30.085974   2266.771362\n",
       "min         0.000000     1.000000       18.250000     18.800000\n",
       "25%         0.000000     9.000000       35.587500    401.450000\n",
       "50%         0.000000    29.000000       70.350000   1397.475000\n",
       "75%         0.000000    55.000000       89.862500   3794.737500\n",
       "max         1.000000    72.000000      118.750000   8684.800000"
      ]
     },
     "execution_count": 16,
     "metadata": {},
     "output_type": "execute_result"
    }
   ],
   "source": [
    "telecomchurn.describe()"
   ]
  },
  {
   "cell_type": "markdown",
   "id": "4a032a4d",
   "metadata": {},
   "source": [
    "# EDA"
   ]
  },
  {
   "cell_type": "code",
   "execution_count": 17,
   "id": "9b68e292",
   "metadata": {},
   "outputs": [
    {
     "data": {
      "text/plain": [
       "<AxesSubplot:ylabel='Frequency'>"
      ]
     },
     "execution_count": 17,
     "metadata": {},
     "output_type": "execute_result"
    },
    {
     "data": {
      "image/png": "[encoded data removed]",
      "text/plain": [
       "<Figure size 432x288 with 1 Axes>"
      ]
     },
     "metadata": {
      "needs_background": "light"
     },
     "output_type": "display_data"
    }
   ],
   "source": [
    "telecomchurn.tenure.plot(kind=\"hist\",color=\"violet\")"
   ]
  },
  {
   "cell_type": "code",
   "execution_count": 18,
   "id": "5ea670cc",
   "metadata": {},
   "outputs": [
    {
     "data": {
      "text/plain": [
       "<AxesSubplot:>"
      ]
     },
     "execution_count": 18,
     "metadata": {},
     "output_type": "execute_result"
    },
    {
     "data": {
      "image/png": "[encoded data removed]",
      "text/plain": [
       "<Figure size 432x288 with 1 Axes>"
      ]
     },
     "metadata": {
      "needs_background": "light"
     },
     "output_type": "display_data"
    }
   ],
   "source": [
    "telecomchurn.tenure.plot(kind=\"box\",vert=False,color=\"green\")"
   ]
  },
  {
   "cell_type": "code",
   "execution_count": 19,
   "id": "a26a401e",
   "metadata": {},
   "outputs": [
    {
     "data": {
      "text/plain": [
       "<AxesSubplot:ylabel='Density'>"
      ]
     },
     "execution_count": 19,
     "metadata": {},
     "output_type": "execute_result"
    },
    {
     "data": {
      "image/png": "[encoded data removed]",
      "text/plain": [
       "<Figure size 432x288 with 1 Axes>"
      ]
     },
     "metadata": {
      "needs_background": "light"
     },
     "output_type": "display_data"
    }
   ],
   "source": [
    "telecomchurn.tenure.plot(kind=\"density\")"
   ]
  },
  {
   "cell_type": "markdown",
   "id": "e3437c51",
   "metadata": {},
   "source": [
    "# Monthly charges"
   ]
  },
  {
   "cell_type": "code",
   "execution_count": 20,
   "id": "bf6316f8",
   "metadata": {},
   "outputs": [
    {
     "data": {
      "text/plain": [
       "<AxesSubplot:ylabel='Frequency'>"
      ]
     },
     "execution_count": 20,
     "metadata": {},
     "output_type": "execute_result"
    },
    {
     "data": {
      "image/png": "[encoded data removed]",
      "text/plain": [
       "<Figure size 432x288 with 1 Axes>"
      ]
     },
     "metadata": {
      "needs_background": "light"
     },
     "output_type": "display_data"
    }
   ],
   "source": [
    "telecomchurn.MonthlyCharges.plot(kind=\"hist\",color=\"red\")"
   ]
  },
  {
   "cell_type": "code",
   "execution_count": 21,
   "id": "6b2a4de9",
   "metadata": {},
   "outputs": [
    {
     "data": {
      "text/plain": [
       "<AxesSubplot:>"
      ]
     },
     "execution_count": 21,
     "metadata": {},
     "output_type": "execute_result"
    },
    {
     "data": {
      "image/png": "[encoded data removed]",
      "text/plain": [
       "<Figure size 432x288 with 1 Axes>"
      ]
     },
     "metadata": {
      "needs_background": "light"
     },
     "output_type": "display_data"
    }
   ],
   "source": [
    "telecomchurn.MonthlyCharges.plot(kind=\"box\",vert=False,color=\"red\")"
   ]
  },
  {
   "cell_type": "code",
   "execution_count": 22,
   "id": "0c40b202",
   "metadata": {},
   "outputs": [
    {
     "data": {
      "text/plain": [
       "<AxesSubplot:ylabel='Density'>"
      ]
     },
     "execution_count": 22,
     "metadata": {},
     "output_type": "execute_result"
    },
    {
     "data": {
      "image/png": "[encoded data removed]",
      "text/plain": [
       "<Figure size 432x288 with 1 Axes>"
      ]
     },
     "metadata": {
      "needs_background": "light"
     },
     "output_type": "display_data"
    }
   ],
   "source": [
    "telecomchurn.MonthlyCharges.plot(kind=\"density\")"
   ]
  },
  {
   "cell_type": "code",
   "execution_count": 23,
   "id": "c9d0c388",
   "metadata": {},
   "outputs": [
    {
     "data": {
      "text/plain": [
       "No     5163\n",
       "Yes    1869\n",
       "Name: Churn, dtype: int64"
      ]
     },
     "execution_count": 23,
     "metadata": {},
     "output_type": "execute_result"
    }
   ],
   "source": [
    "telecomchurn.Churn.value_counts()"
   ]
  },
  {
   "cell_type": "code",
   "execution_count": 24,
   "id": "39eb4987",
   "metadata": {},
   "outputs": [
    {
     "data": {
      "text/plain": [
       "Male      3549\n",
       "Female    3483\n",
       "Name: gender, dtype: int64"
      ]
     },
     "execution_count": 24,
     "metadata": {},
     "output_type": "execute_result"
    }
   ],
   "source": [
    "telecomchurn.gender.value_counts()"
   ]
  },
  {
   "cell_type": "code",
   "execution_count": 25,
   "id": "75144f8f",
   "metadata": {},
   "outputs": [
    {
     "data": {
      "text/plain": [
       "0    5890\n",
       "1    1142\n",
       "Name: SeniorCitizen, dtype: int64"
      ]
     },
     "execution_count": 25,
     "metadata": {},
     "output_type": "execute_result"
    }
   ],
   "source": [
    "telecomchurn.SeniorCitizen.value_counts()"
   ]
  },
  {
   "cell_type": "code",
   "execution_count": 26,
   "id": "23c85546",
   "metadata": {},
   "outputs": [
    {
     "data": {
      "text/plain": [
       "Electronic check             2365\n",
       "Mailed check                 1604\n",
       "Bank transfer (automatic)    1542\n",
       "Credit card (automatic)      1521\n",
       "Name: PaymentMethod, dtype: int64"
      ]
     },
     "execution_count": 26,
     "metadata": {},
     "output_type": "execute_result"
    }
   ],
   "source": [
    "telecomchurn.PaymentMethod.value_counts()"
   ]
  },
  {
   "cell_type": "code",
   "execution_count": 27,
   "id": "a389a8cf",
   "metadata": {},
   "outputs": [
    {
     "data": {
      "text/plain": [
       "<AxesSubplot:xlabel='Churn'>"
      ]
     },
     "execution_count": 27,
     "metadata": {},
     "output_type": "execute_result"
    },
    {
     "data": {
      "image/png": "[encoded data removed]",
      "text/plain": [
       "<Figure size 432x288 with 1 Axes>"
      ]
     },
     "metadata": {
      "needs_background": "light"
     },
     "output_type": "display_data"
    }
   ],
   "source": [
    "pd.crosstab(telecomchurn.Churn,telecomchurn.gender).plot(kind=\"bar\",stacked=False)"
   ]
  },
  {
   "cell_type": "code",
   "execution_count": 28,
   "id": "720fa92a",
   "metadata": {},
   "outputs": [
    {
     "data": {
      "text/plain": [
       "<AxesSubplot:xlabel='Churn'>"
      ]
     },
     "execution_count": 28,
     "metadata": {},
     "output_type": "execute_result"
    },
    {
     "data": {
      "image/png": "[encoded data removed]",
      "text/plain": [
       "<Figure size 432x288 with 1 Axes>"
      ]
     },
     "metadata": {
      "needs_background": "light"
     },
     "output_type": "display_data"
    }
   ],
   "source": [
    "pd.crosstab(telecomchurn.Churn,telecomchurn.InternetService).plot(kind=\"bar\",stacked=False)"
   ]
  },
  {
   "cell_type": "code",
   "execution_count": 29,
   "id": "786af153",
   "metadata": {},
   "outputs": [
    {
     "data": {
      "text/plain": [
       "<AxesSubplot:xlabel='gender'>"
      ]
     },
     "execution_count": 29,
     "metadata": {},
     "output_type": "execute_result"
    },
    {
     "data": {
      "image/png": "[encoded data removed]",
      "text/plain": [
       "<Figure size 432x288 with 1 Axes>"
      ]
     },
     "metadata": {
      "needs_background": "light"
     },
     "output_type": "display_data"
    }
   ],
   "source": [
    "pd.crosstab(telecomchurn.gender,telecomchurn.PaymentMethod).plot(kind=\"bar\",stacked=False)"
   ]
  },
  {
   "cell_type": "code",
   "execution_count": 30,
   "id": "76af8403",
   "metadata": {},
   "outputs": [
    {
     "data": {
      "text/plain": [
       "gender\n",
       "Female    65.216652\n",
       "Male      64.387546\n",
       "Name: MonthlyCharges, dtype: float64"
      ]
     },
     "execution_count": 30,
     "metadata": {},
     "output_type": "execute_result"
    }
   ],
   "source": [
    "telecomchurn.MonthlyCharges.groupby(telecomchurn.gender).mean()"
   ]
  },
  {
   "cell_type": "code",
   "execution_count": 31,
   "id": "3c70ebee",
   "metadata": {},
   "outputs": [
    {
     "data": {
      "text/plain": [
       "<AxesSubplot:xlabel='gender'>"
      ]
     },
     "execution_count": 31,
     "metadata": {},
     "output_type": "execute_result"
    },
    {
     "data": {
      "image/png": "[encoded data removed]",
      "text/plain": [
       "<Figure size 432x288 with 1 Axes>"
      ]
     },
     "metadata": {
      "needs_background": "light"
     },
     "output_type": "display_data"
    }
   ],
   "source": [
    "telecomchurn.MonthlyCharges.groupby(telecomchurn.gender).mean().plot(kind=\"bar\",stacked=True,color=['purple','red'])"
   ]
  },
  {
   "cell_type": "code",
   "execution_count": 32,
   "id": "9f1e6fce",
   "metadata": {},
   "outputs": [
    {
     "data": {
      "text/plain": [
       "<AxesSubplot:xlabel='SeniorCitizen'>"
      ]
     },
     "execution_count": 32,
     "metadata": {},
     "output_type": "execute_result"
    },
    {
     "data": {
      "image/png": "[encoded data removed]",
      "text/plain": [
       "<Figure size 432x288 with 1 Axes>"
      ]
     },
     "metadata": {
      "needs_background": "light"
     },
     "output_type": "display_data"
    }
   ],
   "source": [
    "telecomchurn.tenure.groupby(telecomchurn.SeniorCitizen).mean().plot(kind=\"bar\",stacked=True,color=['green','red'])"
   ]
  },
  {
   "cell_type": "code",
   "execution_count": 33,
   "id": "6d4a8f2b",
   "metadata": {},
   "outputs": [
    {
     "data": {
      "text/plain": [
       "<AxesSubplot:xlabel='PaymentMethod'>"
      ]
     },
     "execution_count": 33,
     "metadata": {},
     "output_type": "execute_result"
    },
    {
     "data": {
      "image/png": "[encoded data removed]",
      "text/plain": [
       "<Figure size 432x288 with 1 Axes>"
      ]
     },
     "metadata": {
      "needs_background": "light"
     },
     "output_type": "display_data"
    }
   ],
   "source": [
    "telecomchurn.tenure.groupby(telecomchurn.PaymentMethod).mean().plot(kind=\"bar\",stacked=True,color=['black','red','green','blue','cyan'])"
   ]
  },
  {
   "cell_type": "code",
   "execution_count": 34,
   "id": "3f42c9ca",
   "metadata": {},
   "outputs": [
    {
     "data": {
      "text/plain": [
       "<AxesSubplot:xlabel='InternetService'>"
      ]
     },
     "execution_count": 34,
     "metadata": {},
     "output_type": "execute_result"
    },
    {
     "data": {
      "image/png": "[encoded data removed]",
      "text/plain": [
       "<Figure size 432x288 with 1 Axes>"
      ]
     },
     "metadata": {
      "needs_background": "light"
     },
     "output_type": "display_data"
    }
   ],
   "source": [
    "telecomchurn.tenure.groupby(telecomchurn.InternetService).mean().plot(kind=\"bar\",stacked=True,color=['cyan','red','green'])"
   ]
  },
  {
   "cell_type": "code",
   "execution_count": 35,
   "id": "31292007",
   "metadata": {},
   "outputs": [
    {
     "data": {
      "text/plain": [
       "<AxesSubplot:xlabel='StreamingMovies'>"
      ]
     },
     "execution_count": 35,
     "metadata": {},
     "output_type": "execute_result"
    },
    {
     "data": {
      "image/png": "[encoded data removed]",
      "text/plain": [
       "<Figure size 432x288 with 1 Axes>"
      ]
     },
     "metadata": {
      "needs_background": "light"
     },
     "output_type": "display_data"
    }
   ],
   "source": [
    "telecomchurn.MonthlyCharges.groupby(telecomchurn.StreamingMovies).mean().plot(kind=\"bar\",stacked=True,color=['blue','brown','green'])"
   ]
  },
  {
   "cell_type": "markdown",
   "id": "4326a084",
   "metadata": {},
   "source": [
    "# Hypothesis Testing"
   ]
  },
  {
   "cell_type": "code",
   "execution_count": 36,
   "id": "a5579227",
   "metadata": {},
   "outputs": [
    {
     "data": {
      "text/plain": [
       "Churn\n",
       "No     61.307408\n",
       "Yes    74.441332\n",
       "Name: MonthlyCharges, dtype: float64"
      ]
     },
     "execution_count": 36,
     "metadata": {},
     "output_type": "execute_result"
    }
   ],
   "source": [
    "telecomchurn.MonthlyCharges.groupby(telecomchurn.Churn).mean()"
   ]
  },
  {
   "cell_type": "code",
   "execution_count": 37,
   "id": "795bf470",
   "metadata": {},
   "outputs": [
    {
     "data": {
      "text/plain": [
       "Churn\n",
       "No     966.871469\n",
       "Yes    608.414183\n",
       "Name: MonthlyCharges, dtype: float64"
      ]
     },
     "execution_count": 37,
     "metadata": {},
     "output_type": "execute_result"
    }
   ],
   "source": [
    "telecomchurn.MonthlyCharges.groupby(telecomchurn.Churn).var()"
   ]
  },
  {
   "cell_type": "code",
   "execution_count": 38,
   "id": "a3343a87",
   "metadata": {},
   "outputs": [],
   "source": [
    "# Here mean or averages & variance of groups are coming different.\n",
    "# Now, we can go for the hypothesis testing ,  \n",
    "# Hypothesis testing - Average MonthlyCharges paid by Churn Yes/No \n",
    "\n",
    "# Statement creation:-\n",
    "# NULL - There is No Significant difference in Average Monthly Charges of Churn Yes/No\n",
    "# ALT - There is Significant difference in Average Monthly Charges of Churn Yes/No"
   ]
  },
  {
   "cell_type": "code",
   "execution_count": 39,
   "id": "442fa02c",
   "metadata": {},
   "outputs": [],
   "source": [
    "# Split Data Frame into Churnyes & churnno\n",
    "churnyes=telecomchurn[telecomchurn.Churn==\"Yes\"]\n",
    "churnno=telecomchurn[telecomchurn.Churn==\"No\"]"
   ]
  },
  {
   "cell_type": "code",
   "execution_count": 40,
   "id": "e9d3125a",
   "metadata": {},
   "outputs": [
    {
     "name": "stdout",
     "output_type": "stream",
     "text": [
      "(1869, 21)\n",
      "(5163, 21)\n"
     ]
    }
   ],
   "source": [
    "print(churnyes.shape)\n",
    "print(churnno.shape)"
   ]
  },
  {
   "cell_type": "code",
   "execution_count": 41,
   "id": "2da7a1da",
   "metadata": {},
   "outputs": [],
   "source": [
    "from scipy.stats import ttest_ind"
   ]
  },
  {
   "cell_type": "code",
   "execution_count": 42,
   "id": "46fb91d2",
   "metadata": {},
   "outputs": [
    {
     "data": {
      "text/plain": [
       "Ttest_indResult(statistic=18.34091879095257, pvalue=2.657357144516026e-72)"
      ]
     },
     "execution_count": 42,
     "metadata": {},
     "output_type": "execute_result"
    }
   ],
   "source": [
    "ttest_ind(churnyes.MonthlyCharges,churnno.MonthlyCharges,equal_var=False)\n",
    "# Since p-value=8.592449331547539e-73, Which is less than 0.05, REJECT NULL"
   ]
  },
  {
   "cell_type": "code",
   "execution_count": 43,
   "id": "3f2163ea",
   "metadata": {},
   "outputs": [],
   "source": [
    "# Hypothesis testing - Average tenure paid by Churn Yes/No \n",
    "\n",
    "# Statement creation:-\n",
    "# NULL - There is No Significant difference in Average tenure of Churn Yes/No\n",
    "# ALT - There is Significant difference in Average tenure of Churn Yes/No"
   ]
  },
  {
   "cell_type": "code",
   "execution_count": 44,
   "id": "a05aab73",
   "metadata": {},
   "outputs": [
    {
     "data": {
      "text/plain": [
       "Ttest_indResult(statistic=-34.971870097503476, pvalue=2.347074718895754e-234)"
      ]
     },
     "execution_count": 44,
     "metadata": {},
     "output_type": "execute_result"
    }
   ],
   "source": [
    "ttest_ind(churnyes.tenure,churnno.tenure,equal_var=False)\n",
    "# Since p-value=1.1954945472607148e-232, Which is less than 0.05, REJECT NULL"
   ]
  },
  {
   "cell_type": "code",
   "execution_count": 45,
   "id": "b402fa28",
   "metadata": {},
   "outputs": [],
   "source": [
    "# Hypothesis testing - Average MonthlyCharges paid by Different PaymentMethod  \n",
    "\n",
    "# Statement creation:-\n",
    "# NULL - There is No Significant difference in Average MonthlyCharges paid by Different PaymentMethod\n",
    "# ALT - There is Significant difference in Average MonthlyCharges paid by Different PaymentMethod"
   ]
  },
  {
   "cell_type": "code",
   "execution_count": 46,
   "id": "016a2eff",
   "metadata": {},
   "outputs": [
    {
     "data": {
      "text/plain": [
       "PaymentMethod\n",
       "Bank transfer (automatic)    67.205577\n",
       "Credit card (automatic)      66.519264\n",
       "Electronic check             76.255814\n",
       "Mailed check                 43.958354\n",
       "Name: MonthlyCharges, dtype: float64"
      ]
     },
     "execution_count": 46,
     "metadata": {},
     "output_type": "execute_result"
    }
   ],
   "source": [
    "telecomchurn.MonthlyCharges.groupby(telecomchurn.PaymentMethod).mean()\n",
    "# The mean for all the categories is different."
   ]
  },
  {
   "cell_type": "code",
   "execution_count": 47,
   "id": "9261df46",
   "metadata": {},
   "outputs": [],
   "source": [
    "# Split Different PaymentMethod into indivisual Data Frame\n",
    "bt=telecomchurn[telecomchurn.PaymentMethod==\"Bank transfer (automatic)\"]\n",
    "cc=telecomchurn[telecomchurn.PaymentMethod==\"Credit card (automatic)\"]\n",
    "ec=telecomchurn[telecomchurn.PaymentMethod==\"Electronic check\"]\n",
    "mc=telecomchurn[telecomchurn.PaymentMethod==\"Mailed check\"]"
   ]
  },
  {
   "cell_type": "code",
   "execution_count": 48,
   "id": "df0d67f8",
   "metadata": {},
   "outputs": [],
   "source": [
    "from scipy.stats import f_oneway"
   ]
  },
  {
   "cell_type": "code",
   "execution_count": 49,
   "id": "98101e23",
   "metadata": {},
   "outputs": [
    {
     "data": {
      "text/plain": [
       "F_onewayResult(statistic=447.39772663320394, pvalue=5.041536525100443e-266)"
      ]
     },
     "execution_count": 49,
     "metadata": {},
     "output_type": "execute_result"
    }
   ],
   "source": [
    "f_oneway(bt.MonthlyCharges,cc.MonthlyCharges,ec.MonthlyCharges,mc.MonthlyCharges)\n",
    "# Since pvalue=MonthlyCharges is less than 0.05, REJECT NULL"
   ]
  },
  {
   "cell_type": "code",
   "execution_count": 50,
   "id": "be0fd493",
   "metadata": {},
   "outputs": [],
   "source": [
    "# Hypothesis testing - Average tenure paid by Different PaymentMethod  \n",
    "\n",
    "# Statement creation:-\n",
    "# NULL - There is No Significant difference in Average tenure paid by Different PaymentMethod\n",
    "# ALT - There is Significant difference in Average tenure paid by Different PaymentMethod"
   ]
  },
  {
   "cell_type": "code",
   "execution_count": 51,
   "id": "1314b76b",
   "metadata": {},
   "outputs": [
    {
     "data": {
      "text/plain": [
       "PaymentMethod\n",
       "Bank transfer (automatic)    43.713359\n",
       "Credit card (automatic)      43.297830\n",
       "Electronic check             25.174630\n",
       "Mailed check                 21.938903\n",
       "Name: tenure, dtype: float64"
      ]
     },
     "execution_count": 51,
     "metadata": {},
     "output_type": "execute_result"
    }
   ],
   "source": [
    "telecomchurn.tenure.groupby(telecomchurn.PaymentMethod).mean()\n",
    "# The mean for all the categories is different."
   ]
  },
  {
   "cell_type": "code",
   "execution_count": 52,
   "id": "8dfdbbc1",
   "metadata": {},
   "outputs": [
    {
     "data": {
      "text/plain": [
       "F_onewayResult(statistic=445.6300438001573, pvalue=4.666987312809702e-265)"
      ]
     },
     "execution_count": 52,
     "metadata": {},
     "output_type": "execute_result"
    }
   ],
   "source": [
    "f_oneway(bt.tenure,cc.tenure,ec.tenure,mc.tenure)\n",
    "# Since p-value=1.503848361277172e-265 is less than 0.05, REJECT NULL"
   ]
  },
  {
   "cell_type": "code",
   "execution_count": 53,
   "id": "7d31dcef",
   "metadata": {},
   "outputs": [],
   "source": [
    "# Hypothesis testing - No Association between gender and Churn\n",
    "# Null - There is no association between gender & churn\n",
    "# Alt - There is association between gender & churn"
   ]
  },
  {
   "cell_type": "code",
   "execution_count": 54,
   "id": "8c379aed",
   "metadata": {},
   "outputs": [
    {
     "data": {
      "text/html": [
       "<div>\n",
       "<style scoped>\n",
       "    .dataframe tbody tr th:only-of-type {\n",
       "        vertical-align: middle;\n",
       "    }\n",
       "\n",
       "    .dataframe tbody tr th {\n",
       "        vertical-align: top;\n",
       "    }\n",
       "\n",
       "    .dataframe thead th {\n",
       "        text-align: right;\n",
       "    }\n",
       "</style>\n",
       "<table border=\"1\" class=\"dataframe\">\n",
       "  <thead>\n",
       "    <tr style=\"text-align: right;\">\n",
       "      <th>Churn</th>\n",
       "      <th>No</th>\n",
       "      <th>Yes</th>\n",
       "    </tr>\n",
       "    <tr>\n",
       "      <th>gender</th>\n",
       "      <th></th>\n",
       "      <th></th>\n",
       "    </tr>\n",
       "  </thead>\n",
       "  <tbody>\n",
       "    <tr>\n",
       "      <th>Female</th>\n",
       "      <td>2544</td>\n",
       "      <td>939</td>\n",
       "    </tr>\n",
       "    <tr>\n",
       "      <th>Male</th>\n",
       "      <td>2619</td>\n",
       "      <td>930</td>\n",
       "    </tr>\n",
       "  </tbody>\n",
       "</table>\n",
       "</div>"
      ],
      "text/plain": [
       "Churn     No  Yes\n",
       "gender           \n",
       "Female  2544  939\n",
       "Male    2619  930"
      ]
     },
     "execution_count": 54,
     "metadata": {},
     "output_type": "execute_result"
    }
   ],
   "source": [
    "pd.crosstab(telecomchurn.gender,telecomchurn.Churn)"
   ]
  },
  {
   "cell_type": "code",
   "execution_count": 55,
   "id": "fa9020eb",
   "metadata": {},
   "outputs": [],
   "source": [
    "from scipy.stats import chi2_contingency"
   ]
  },
  {
   "cell_type": "code",
   "execution_count": 56,
   "id": "e278da36",
   "metadata": {},
   "outputs": [
    {
     "data": {
      "text/plain": [
       "(0.47545453727386294,\n",
       " 0.4904884707065509,\n",
       " 1,\n",
       " array([[2557.27090444,  925.72909556],\n",
       "        [2605.72909556,  943.27090444]]))"
      ]
     },
     "execution_count": 56,
     "metadata": {},
     "output_type": "execute_result"
    }
   ],
   "source": [
    "chi2_contingency(pd.crosstab(telecomchurn.gender,telecomchurn.Churn))\n",
    "# Since p-value=0.48657873605618596 is greater than 0.05, Fail to Reject Null"
   ]
  },
  {
   "cell_type": "code",
   "execution_count": 57,
   "id": "d1a8ef22",
   "metadata": {},
   "outputs": [],
   "source": [
    "# Hypothesis testing - No Association between SeniorCitizen & Churn\n",
    "# Null - There is no association between SeniorCitizen & Churn\n",
    "# Alt - There is association between SeniorCitizen & Churn"
   ]
  },
  {
   "cell_type": "code",
   "execution_count": 58,
   "id": "370262f7",
   "metadata": {},
   "outputs": [
    {
     "data": {
      "text/html": [
       "<div>\n",
       "<style scoped>\n",
       "    .dataframe tbody tr th:only-of-type {\n",
       "        vertical-align: middle;\n",
       "    }\n",
       "\n",
       "    .dataframe tbody tr th {\n",
       "        vertical-align: top;\n",
       "    }\n",
       "\n",
       "    .dataframe thead th {\n",
       "        text-align: right;\n",
       "    }\n",
       "</style>\n",
       "<table border=\"1\" class=\"dataframe\">\n",
       "  <thead>\n",
       "    <tr style=\"text-align: right;\">\n",
       "      <th>Churn</th>\n",
       "      <th>No</th>\n",
       "      <th>Yes</th>\n",
       "    </tr>\n",
       "    <tr>\n",
       "      <th>SeniorCitizen</th>\n",
       "      <th></th>\n",
       "      <th></th>\n",
       "    </tr>\n",
       "  </thead>\n",
       "  <tbody>\n",
       "    <tr>\n",
       "      <th>0</th>\n",
       "      <td>4497</td>\n",
       "      <td>1393</td>\n",
       "    </tr>\n",
       "    <tr>\n",
       "      <th>1</th>\n",
       "      <td>666</td>\n",
       "      <td>476</td>\n",
       "    </tr>\n",
       "  </tbody>\n",
       "</table>\n",
       "</div>"
      ],
      "text/plain": [
       "Churn            No   Yes\n",
       "SeniorCitizen            \n",
       "0              4497  1393\n",
       "1               666   476"
      ]
     },
     "execution_count": 58,
     "metadata": {},
     "output_type": "execute_result"
    }
   ],
   "source": [
    "pd.crosstab(telecomchurn.SeniorCitizen,telecomchurn.Churn)"
   ]
  },
  {
   "cell_type": "code",
   "execution_count": 59,
   "id": "1d1bb495",
   "metadata": {},
   "outputs": [
    {
     "data": {
      "text/plain": [
       "(158.4408162893713,\n",
       " 2.4792557203954705e-36,\n",
       " 1,\n",
       " array([[4324.52645051, 1565.47354949],\n",
       "        [ 838.47354949,  303.52645051]]))"
      ]
     },
     "execution_count": 59,
     "metadata": {},
     "output_type": "execute_result"
    }
   ],
   "source": [
    "chi2_contingency(pd.crosstab(telecomchurn.SeniorCitizen,telecomchurn.Churn))\n",
    "# Since p-value=1.510066805092378e-36 is less than 0.05, Reject Null"
   ]
  },
  {
   "cell_type": "markdown",
   "id": "7eaa0f55",
   "metadata": {},
   "source": [
    "# Spiliting the Different columns into numericcols & objectcols"
   ]
  },
  {
   "cell_type": "code",
   "execution_count": 60,
   "id": "79014412",
   "metadata": {},
   "outputs": [],
   "source": [
    "numericcols=telecomchurn.select_dtypes(include=np.number)\n",
    "objectcols=telecomchurn.select_dtypes(include=['object'])"
   ]
  },
  {
   "cell_type": "code",
   "execution_count": 61,
   "id": "911129ff",
   "metadata": {},
   "outputs": [
    {
     "name": "stdout",
     "output_type": "stream",
     "text": [
      "Index(['SeniorCitizen', 'tenure', 'MonthlyCharges', 'TotalCharges'], dtype='object')\n",
      "Index(['customerID', 'gender', 'Partner', 'Dependents', 'PhoneService',\n",
      "       'MultipleLines', 'InternetService', 'OnlineSecurity', 'OnlineBackup',\n",
      "       'DeviceProtection', 'TechSupport', 'StreamingTV', 'StreamingMovies',\n",
      "       'Contract', 'PaperlessBilling', 'PaymentMethod', 'Churn'],\n",
      "      dtype='object')\n"
     ]
    }
   ],
   "source": [
    "print(numericcols.columns)\n",
    "print(objectcols.columns)"
   ]
  },
  {
   "cell_type": "code",
   "execution_count": 62,
   "id": "1d8f254a",
   "metadata": {},
   "outputs": [],
   "source": [
    "# moving the variables to respected places"
   ]
  },
  {
   "cell_type": "code",
   "execution_count": 65,
   "id": "87906de1",
   "metadata": {},
   "outputs": [
    {
     "name": "stderr",
     "output_type": "stream",
     "text": [
      "C:\\Users\\ADMIN\\AppData\\Local\\Temp/ipykernel_7468/1030182631.py:1: SettingWithCopyWarning: \n",
      "A value is trying to be set on a copy of a slice from a DataFrame.\n",
      "Try using .loc[row_indexer,col_indexer] = value instead\n",
      "\n",
      "See the caveats in the documentation: https://pandas.pydata.org/pandas-docs/stable/user_guide/indexing.html#returning-a-view-versus-a-copy\n",
      "  objectcols[\"SeniorCitizen\"]=numericcols.SeniorCitizen\n"
     ]
    }
   ],
   "source": [
    "objectcols[\"SeniorCitizen\"]=numericcols.SeniorCitizen"
   ]
  },
  {
   "cell_type": "code",
   "execution_count": 66,
   "id": "14f92eef",
   "metadata": {},
   "outputs": [],
   "source": [
    "numericcols=numericcols.drop(\"SeniorCitizen\",axis=1)"
   ]
  },
  {
   "cell_type": "code",
   "execution_count": 67,
   "id": "d5e8f42d",
   "metadata": {},
   "outputs": [
    {
     "name": "stdout",
     "output_type": "stream",
     "text": [
      "Index(['tenure', 'MonthlyCharges', 'TotalCharges'], dtype='object')\n",
      "Index(['customerID', 'gender', 'Partner', 'Dependents', 'PhoneService',\n",
      "       'MultipleLines', 'InternetService', 'OnlineSecurity', 'OnlineBackup',\n",
      "       'DeviceProtection', 'TechSupport', 'StreamingTV', 'StreamingMovies',\n",
      "       'Contract', 'PaperlessBilling', 'PaymentMethod', 'Churn',\n",
      "       'SeniorCitizen'],\n",
      "      dtype='object')\n"
     ]
    }
   ],
   "source": [
    "print(numericcols.columns)\n",
    "print(objectcols.columns)"
   ]
  },
  {
   "cell_type": "code",
   "execution_count": 68,
   "id": "7b9185bd",
   "metadata": {},
   "outputs": [
    {
     "data": {
      "text/plain": [
       "tenure              int64\n",
       "MonthlyCharges    float64\n",
       "TotalCharges      float64\n",
       "dtype: object"
      ]
     },
     "execution_count": 68,
     "metadata": {},
     "output_type": "execute_result"
    }
   ],
   "source": [
    "numericcols.dtypes"
   ]
  },
  {
   "cell_type": "markdown",
   "id": "52874871",
   "metadata": {},
   "source": [
    "# Label Encoding"
   ]
  },
  {
   "cell_type": "code",
   "execution_count": 69,
   "id": "d34179cd",
   "metadata": {},
   "outputs": [],
   "source": [
    "from sklearn.preprocessing import LabelEncoder"
   ]
  },
  {
   "cell_type": "code",
   "execution_count": 70,
   "id": "6f5093bb",
   "metadata": {},
   "outputs": [],
   "source": [
    "le= LabelEncoder()"
   ]
  },
  {
   "cell_type": "code",
   "execution_count": 71,
   "id": "9e639a16",
   "metadata": {},
   "outputs": [],
   "source": [
    "objectcolsnew= objectcols.apply(le.fit_transform)"
   ]
  },
  {
   "cell_type": "code",
   "execution_count": 72,
   "id": "ebe5edf7",
   "metadata": {},
   "outputs": [
    {
     "data": {
      "text/html": [
       "<div>\n",
       "<style scoped>\n",
       "    .dataframe tbody tr th:only-of-type {\n",
       "        vertical-align: middle;\n",
       "    }\n",
       "\n",
       "    .dataframe tbody tr th {\n",
       "        vertical-align: top;\n",
       "    }\n",
       "\n",
       "    .dataframe thead th {\n",
       "        text-align: right;\n",
       "    }\n",
       "</style>\n",
       "<table border=\"1\" class=\"dataframe\">\n",
       "  <thead>\n",
       "    <tr style=\"text-align: right;\">\n",
       "      <th></th>\n",
       "      <th>customerID</th>\n",
       "      <th>gender</th>\n",
       "      <th>Partner</th>\n",
       "      <th>Dependents</th>\n",
       "      <th>PhoneService</th>\n",
       "      <th>MultipleLines</th>\n",
       "      <th>InternetService</th>\n",
       "      <th>OnlineSecurity</th>\n",
       "      <th>OnlineBackup</th>\n",
       "      <th>DeviceProtection</th>\n",
       "      <th>TechSupport</th>\n",
       "      <th>StreamingTV</th>\n",
       "      <th>StreamingMovies</th>\n",
       "      <th>Contract</th>\n",
       "      <th>PaperlessBilling</th>\n",
       "      <th>PaymentMethod</th>\n",
       "      <th>Churn</th>\n",
       "      <th>SeniorCitizen</th>\n",
       "    </tr>\n",
       "  </thead>\n",
       "  <tbody>\n",
       "    <tr>\n",
       "      <th>0</th>\n",
       "      <td>5365</td>\n",
       "      <td>0</td>\n",
       "      <td>1</td>\n",
       "      <td>0</td>\n",
       "      <td>0</td>\n",
       "      <td>1</td>\n",
       "      <td>0</td>\n",
       "      <td>0</td>\n",
       "      <td>2</td>\n",
       "      <td>0</td>\n",
       "      <td>0</td>\n",
       "      <td>0</td>\n",
       "      <td>0</td>\n",
       "      <td>0</td>\n",
       "      <td>1</td>\n",
       "      <td>2</td>\n",
       "      <td>0</td>\n",
       "      <td>0</td>\n",
       "    </tr>\n",
       "    <tr>\n",
       "      <th>1</th>\n",
       "      <td>3953</td>\n",
       "      <td>1</td>\n",
       "      <td>0</td>\n",
       "      <td>0</td>\n",
       "      <td>1</td>\n",
       "      <td>0</td>\n",
       "      <td>0</td>\n",
       "      <td>2</td>\n",
       "      <td>0</td>\n",
       "      <td>2</td>\n",
       "      <td>0</td>\n",
       "      <td>0</td>\n",
       "      <td>0</td>\n",
       "      <td>1</td>\n",
       "      <td>0</td>\n",
       "      <td>3</td>\n",
       "      <td>0</td>\n",
       "      <td>0</td>\n",
       "    </tr>\n",
       "    <tr>\n",
       "      <th>2</th>\n",
       "      <td>2558</td>\n",
       "      <td>1</td>\n",
       "      <td>0</td>\n",
       "      <td>0</td>\n",
       "      <td>1</td>\n",
       "      <td>0</td>\n",
       "      <td>0</td>\n",
       "      <td>2</td>\n",
       "      <td>2</td>\n",
       "      <td>0</td>\n",
       "      <td>0</td>\n",
       "      <td>0</td>\n",
       "      <td>0</td>\n",
       "      <td>0</td>\n",
       "      <td>1</td>\n",
       "      <td>3</td>\n",
       "      <td>1</td>\n",
       "      <td>0</td>\n",
       "    </tr>\n",
       "    <tr>\n",
       "      <th>3</th>\n",
       "      <td>5524</td>\n",
       "      <td>1</td>\n",
       "      <td>0</td>\n",
       "      <td>0</td>\n",
       "      <td>0</td>\n",
       "      <td>1</td>\n",
       "      <td>0</td>\n",
       "      <td>2</td>\n",
       "      <td>0</td>\n",
       "      <td>2</td>\n",
       "      <td>2</td>\n",
       "      <td>0</td>\n",
       "      <td>0</td>\n",
       "      <td>1</td>\n",
       "      <td>0</td>\n",
       "      <td>0</td>\n",
       "      <td>0</td>\n",
       "      <td>0</td>\n",
       "    </tr>\n",
       "    <tr>\n",
       "      <th>4</th>\n",
       "      <td>6500</td>\n",
       "      <td>0</td>\n",
       "      <td>0</td>\n",
       "      <td>0</td>\n",
       "      <td>1</td>\n",
       "      <td>0</td>\n",
       "      <td>1</td>\n",
       "      <td>0</td>\n",
       "      <td>0</td>\n",
       "      <td>0</td>\n",
       "      <td>0</td>\n",
       "      <td>0</td>\n",
       "      <td>0</td>\n",
       "      <td>0</td>\n",
       "      <td>1</td>\n",
       "      <td>2</td>\n",
       "      <td>1</td>\n",
       "      <td>0</td>\n",
       "    </tr>\n",
       "  </tbody>\n",
       "</table>\n",
       "</div>"
      ],
      "text/plain": [
       "   customerID  gender  Partner  Dependents  PhoneService  MultipleLines  \\\n",
       "0        5365       0        1           0             0              1   \n",
       "1        3953       1        0           0             1              0   \n",
       "2        2558       1        0           0             1              0   \n",
       "3        5524       1        0           0             0              1   \n",
       "4        6500       0        0           0             1              0   \n",
       "\n",
       "   InternetService  OnlineSecurity  OnlineBackup  DeviceProtection  \\\n",
       "0                0               0             2                 0   \n",
       "1                0               2             0                 2   \n",
       "2                0               2             2                 0   \n",
       "3                0               2             0                 2   \n",
       "4                1               0             0                 0   \n",
       "\n",
       "   TechSupport  StreamingTV  StreamingMovies  Contract  PaperlessBilling  \\\n",
       "0            0            0                0         0                 1   \n",
       "1            0            0                0         1                 0   \n",
       "2            0            0                0         0                 1   \n",
       "3            2            0                0         1                 0   \n",
       "4            0            0                0         0                 1   \n",
       "\n",
       "   PaymentMethod  Churn  SeniorCitizen  \n",
       "0              2      0              0  \n",
       "1              3      0              0  \n",
       "2              3      1              0  \n",
       "3              0      0              0  \n",
       "4              2      1              0  "
      ]
     },
     "execution_count": 72,
     "metadata": {},
     "output_type": "execute_result"
    }
   ],
   "source": [
    "objectcolsnew.head()"
   ]
  },
  {
   "cell_type": "code",
   "execution_count": 73,
   "id": "184ea30c",
   "metadata": {},
   "outputs": [
    {
     "data": {
      "text/html": [
       "<div>\n",
       "<style scoped>\n",
       "    .dataframe tbody tr th:only-of-type {\n",
       "        vertical-align: middle;\n",
       "    }\n",
       "\n",
       "    .dataframe tbody tr th {\n",
       "        vertical-align: top;\n",
       "    }\n",
       "\n",
       "    .dataframe thead th {\n",
       "        text-align: right;\n",
       "    }\n",
       "</style>\n",
       "<table border=\"1\" class=\"dataframe\">\n",
       "  <thead>\n",
       "    <tr style=\"text-align: right;\">\n",
       "      <th></th>\n",
       "      <th>tenure</th>\n",
       "      <th>MonthlyCharges</th>\n",
       "      <th>TotalCharges</th>\n",
       "    </tr>\n",
       "  </thead>\n",
       "  <tbody>\n",
       "    <tr>\n",
       "      <th>0</th>\n",
       "      <td>1</td>\n",
       "      <td>29.85</td>\n",
       "      <td>29.85</td>\n",
       "    </tr>\n",
       "    <tr>\n",
       "      <th>1</th>\n",
       "      <td>34</td>\n",
       "      <td>56.95</td>\n",
       "      <td>1889.50</td>\n",
       "    </tr>\n",
       "    <tr>\n",
       "      <th>2</th>\n",
       "      <td>2</td>\n",
       "      <td>53.85</td>\n",
       "      <td>108.15</td>\n",
       "    </tr>\n",
       "    <tr>\n",
       "      <th>3</th>\n",
       "      <td>45</td>\n",
       "      <td>42.30</td>\n",
       "      <td>1840.75</td>\n",
       "    </tr>\n",
       "    <tr>\n",
       "      <th>4</th>\n",
       "      <td>2</td>\n",
       "      <td>70.70</td>\n",
       "      <td>151.65</td>\n",
       "    </tr>\n",
       "  </tbody>\n",
       "</table>\n",
       "</div>"
      ],
      "text/plain": [
       "   tenure  MonthlyCharges  TotalCharges\n",
       "0       1           29.85         29.85\n",
       "1      34           56.95       1889.50\n",
       "2       2           53.85        108.15\n",
       "3      45           42.30       1840.75\n",
       "4       2           70.70        151.65"
      ]
     },
     "execution_count": 73,
     "metadata": {},
     "output_type": "execute_result"
    }
   ],
   "source": [
    "numericcols.head()"
   ]
  },
  {
   "cell_type": "code",
   "execution_count": 74,
   "id": "cb694dfd",
   "metadata": {},
   "outputs": [],
   "source": [
    "combinedf=pd.concat([numericcols,objectcolsnew],axis=1)"
   ]
  },
  {
   "cell_type": "code",
   "execution_count": 75,
   "id": "aa2f64b3",
   "metadata": {},
   "outputs": [
    {
     "data": {
      "text/html": [
       "<div>\n",
       "<style scoped>\n",
       "    .dataframe tbody tr th:only-of-type {\n",
       "        vertical-align: middle;\n",
       "    }\n",
       "\n",
       "    .dataframe tbody tr th {\n",
       "        vertical-align: top;\n",
       "    }\n",
       "\n",
       "    .dataframe thead th {\n",
       "        text-align: right;\n",
       "    }\n",
       "</style>\n",
       "<table border=\"1\" class=\"dataframe\">\n",
       "  <thead>\n",
       "    <tr style=\"text-align: right;\">\n",
       "      <th></th>\n",
       "      <th>tenure</th>\n",
       "      <th>MonthlyCharges</th>\n",
       "      <th>TotalCharges</th>\n",
       "      <th>customerID</th>\n",
       "      <th>gender</th>\n",
       "      <th>Partner</th>\n",
       "      <th>Dependents</th>\n",
       "      <th>PhoneService</th>\n",
       "      <th>MultipleLines</th>\n",
       "      <th>InternetService</th>\n",
       "      <th>...</th>\n",
       "      <th>OnlineBackup</th>\n",
       "      <th>DeviceProtection</th>\n",
       "      <th>TechSupport</th>\n",
       "      <th>StreamingTV</th>\n",
       "      <th>StreamingMovies</th>\n",
       "      <th>Contract</th>\n",
       "      <th>PaperlessBilling</th>\n",
       "      <th>PaymentMethod</th>\n",
       "      <th>Churn</th>\n",
       "      <th>SeniorCitizen</th>\n",
       "    </tr>\n",
       "  </thead>\n",
       "  <tbody>\n",
       "    <tr>\n",
       "      <th>0</th>\n",
       "      <td>1</td>\n",
       "      <td>29.85</td>\n",
       "      <td>29.85</td>\n",
       "      <td>5365</td>\n",
       "      <td>0</td>\n",
       "      <td>1</td>\n",
       "      <td>0</td>\n",
       "      <td>0</td>\n",
       "      <td>1</td>\n",
       "      <td>0</td>\n",
       "      <td>...</td>\n",
       "      <td>2</td>\n",
       "      <td>0</td>\n",
       "      <td>0</td>\n",
       "      <td>0</td>\n",
       "      <td>0</td>\n",
       "      <td>0</td>\n",
       "      <td>1</td>\n",
       "      <td>2</td>\n",
       "      <td>0</td>\n",
       "      <td>0</td>\n",
       "    </tr>\n",
       "    <tr>\n",
       "      <th>1</th>\n",
       "      <td>34</td>\n",
       "      <td>56.95</td>\n",
       "      <td>1889.50</td>\n",
       "      <td>3953</td>\n",
       "      <td>1</td>\n",
       "      <td>0</td>\n",
       "      <td>0</td>\n",
       "      <td>1</td>\n",
       "      <td>0</td>\n",
       "      <td>0</td>\n",
       "      <td>...</td>\n",
       "      <td>0</td>\n",
       "      <td>2</td>\n",
       "      <td>0</td>\n",
       "      <td>0</td>\n",
       "      <td>0</td>\n",
       "      <td>1</td>\n",
       "      <td>0</td>\n",
       "      <td>3</td>\n",
       "      <td>0</td>\n",
       "      <td>0</td>\n",
       "    </tr>\n",
       "    <tr>\n",
       "      <th>2</th>\n",
       "      <td>2</td>\n",
       "      <td>53.85</td>\n",
       "      <td>108.15</td>\n",
       "      <td>2558</td>\n",
       "      <td>1</td>\n",
       "      <td>0</td>\n",
       "      <td>0</td>\n",
       "      <td>1</td>\n",
       "      <td>0</td>\n",
       "      <td>0</td>\n",
       "      <td>...</td>\n",
       "      <td>2</td>\n",
       "      <td>0</td>\n",
       "      <td>0</td>\n",
       "      <td>0</td>\n",
       "      <td>0</td>\n",
       "      <td>0</td>\n",
       "      <td>1</td>\n",
       "      <td>3</td>\n",
       "      <td>1</td>\n",
       "      <td>0</td>\n",
       "    </tr>\n",
       "    <tr>\n",
       "      <th>3</th>\n",
       "      <td>45</td>\n",
       "      <td>42.30</td>\n",
       "      <td>1840.75</td>\n",
       "      <td>5524</td>\n",
       "      <td>1</td>\n",
       "      <td>0</td>\n",
       "      <td>0</td>\n",
       "      <td>0</td>\n",
       "      <td>1</td>\n",
       "      <td>0</td>\n",
       "      <td>...</td>\n",
       "      <td>0</td>\n",
       "      <td>2</td>\n",
       "      <td>2</td>\n",
       "      <td>0</td>\n",
       "      <td>0</td>\n",
       "      <td>1</td>\n",
       "      <td>0</td>\n",
       "      <td>0</td>\n",
       "      <td>0</td>\n",
       "      <td>0</td>\n",
       "    </tr>\n",
       "    <tr>\n",
       "      <th>4</th>\n",
       "      <td>2</td>\n",
       "      <td>70.70</td>\n",
       "      <td>151.65</td>\n",
       "      <td>6500</td>\n",
       "      <td>0</td>\n",
       "      <td>0</td>\n",
       "      <td>0</td>\n",
       "      <td>1</td>\n",
       "      <td>0</td>\n",
       "      <td>1</td>\n",
       "      <td>...</td>\n",
       "      <td>0</td>\n",
       "      <td>0</td>\n",
       "      <td>0</td>\n",
       "      <td>0</td>\n",
       "      <td>0</td>\n",
       "      <td>0</td>\n",
       "      <td>1</td>\n",
       "      <td>2</td>\n",
       "      <td>1</td>\n",
       "      <td>0</td>\n",
       "    </tr>\n",
       "  </tbody>\n",
       "</table>\n",
       "<p>5 rows × 21 columns</p>\n",
       "</div>"
      ],
      "text/plain": [
       "   tenure  MonthlyCharges  TotalCharges  customerID  gender  Partner  \\\n",
       "0       1           29.85         29.85        5365       0        1   \n",
       "1      34           56.95       1889.50        3953       1        0   \n",
       "2       2           53.85        108.15        2558       1        0   \n",
       "3      45           42.30       1840.75        5524       1        0   \n",
       "4       2           70.70        151.65        6500       0        0   \n",
       "\n",
       "   Dependents  PhoneService  MultipleLines  InternetService  ...  \\\n",
       "0           0             0              1                0  ...   \n",
       "1           0             1              0                0  ...   \n",
       "2           0             1              0                0  ...   \n",
       "3           0             0              1                0  ...   \n",
       "4           0             1              0                1  ...   \n",
       "\n",
       "   OnlineBackup  DeviceProtection  TechSupport  StreamingTV  StreamingMovies  \\\n",
       "0             2                 0            0            0                0   \n",
       "1             0                 2            0            0                0   \n",
       "2             2                 0            0            0                0   \n",
       "3             0                 2            2            0                0   \n",
       "4             0                 0            0            0                0   \n",
       "\n",
       "   Contract  PaperlessBilling  PaymentMethod  Churn  SeniorCitizen  \n",
       "0         0                 1              2      0              0  \n",
       "1         1                 0              3      0              0  \n",
       "2         0                 1              3      1              0  \n",
       "3         1                 0              0      0              0  \n",
       "4         0                 1              2      1              0  \n",
       "\n",
       "[5 rows x 21 columns]"
      ]
     },
     "execution_count": 75,
     "metadata": {},
     "output_type": "execute_result"
    }
   ],
   "source": [
    "combinedf.head()"
   ]
  },
  {
   "cell_type": "code",
   "execution_count": 76,
   "id": "56b62d42",
   "metadata": {},
   "outputs": [],
   "source": [
    "combinedf=combinedf.drop(\"customerID\",axis=1)"
   ]
  },
  {
   "cell_type": "code",
   "execution_count": 77,
   "id": "594e4870",
   "metadata": {},
   "outputs": [
    {
     "data": {
      "text/plain": [
       "(7032, 20)"
      ]
     },
     "execution_count": 77,
     "metadata": {},
     "output_type": "execute_result"
    }
   ],
   "source": [
    "combinedf.shape"
   ]
  },
  {
   "cell_type": "code",
   "execution_count": 78,
   "id": "c8398a4b",
   "metadata": {},
   "outputs": [
    {
     "data": {
      "text/html": [
       "<div>\n",
       "<style scoped>\n",
       "    .dataframe tbody tr th:only-of-type {\n",
       "        vertical-align: middle;\n",
       "    }\n",
       "\n",
       "    .dataframe tbody tr th {\n",
       "        vertical-align: top;\n",
       "    }\n",
       "\n",
       "    .dataframe thead th {\n",
       "        text-align: right;\n",
       "    }\n",
       "</style>\n",
       "<table border=\"1\" class=\"dataframe\">\n",
       "  <thead>\n",
       "    <tr style=\"text-align: right;\">\n",
       "      <th></th>\n",
       "      <th>tenure</th>\n",
       "      <th>MonthlyCharges</th>\n",
       "      <th>TotalCharges</th>\n",
       "      <th>gender</th>\n",
       "      <th>Partner</th>\n",
       "      <th>Dependents</th>\n",
       "      <th>PhoneService</th>\n",
       "      <th>MultipleLines</th>\n",
       "      <th>InternetService</th>\n",
       "      <th>OnlineSecurity</th>\n",
       "      <th>OnlineBackup</th>\n",
       "      <th>DeviceProtection</th>\n",
       "      <th>TechSupport</th>\n",
       "      <th>StreamingTV</th>\n",
       "      <th>StreamingMovies</th>\n",
       "      <th>Contract</th>\n",
       "      <th>PaperlessBilling</th>\n",
       "      <th>PaymentMethod</th>\n",
       "      <th>Churn</th>\n",
       "      <th>SeniorCitizen</th>\n",
       "    </tr>\n",
       "  </thead>\n",
       "  <tbody>\n",
       "    <tr>\n",
       "      <th>0</th>\n",
       "      <td>1</td>\n",
       "      <td>29.85</td>\n",
       "      <td>29.85</td>\n",
       "      <td>0</td>\n",
       "      <td>1</td>\n",
       "      <td>0</td>\n",
       "      <td>0</td>\n",
       "      <td>1</td>\n",
       "      <td>0</td>\n",
       "      <td>0</td>\n",
       "      <td>2</td>\n",
       "      <td>0</td>\n",
       "      <td>0</td>\n",
       "      <td>0</td>\n",
       "      <td>0</td>\n",
       "      <td>0</td>\n",
       "      <td>1</td>\n",
       "      <td>2</td>\n",
       "      <td>0</td>\n",
       "      <td>0</td>\n",
       "    </tr>\n",
       "    <tr>\n",
       "      <th>1</th>\n",
       "      <td>34</td>\n",
       "      <td>56.95</td>\n",
       "      <td>1889.50</td>\n",
       "      <td>1</td>\n",
       "      <td>0</td>\n",
       "      <td>0</td>\n",
       "      <td>1</td>\n",
       "      <td>0</td>\n",
       "      <td>0</td>\n",
       "      <td>2</td>\n",
       "      <td>0</td>\n",
       "      <td>2</td>\n",
       "      <td>0</td>\n",
       "      <td>0</td>\n",
       "      <td>0</td>\n",
       "      <td>1</td>\n",
       "      <td>0</td>\n",
       "      <td>3</td>\n",
       "      <td>0</td>\n",
       "      <td>0</td>\n",
       "    </tr>\n",
       "    <tr>\n",
       "      <th>2</th>\n",
       "      <td>2</td>\n",
       "      <td>53.85</td>\n",
       "      <td>108.15</td>\n",
       "      <td>1</td>\n",
       "      <td>0</td>\n",
       "      <td>0</td>\n",
       "      <td>1</td>\n",
       "      <td>0</td>\n",
       "      <td>0</td>\n",
       "      <td>2</td>\n",
       "      <td>2</td>\n",
       "      <td>0</td>\n",
       "      <td>0</td>\n",
       "      <td>0</td>\n",
       "      <td>0</td>\n",
       "      <td>0</td>\n",
       "      <td>1</td>\n",
       "      <td>3</td>\n",
       "      <td>1</td>\n",
       "      <td>0</td>\n",
       "    </tr>\n",
       "    <tr>\n",
       "      <th>3</th>\n",
       "      <td>45</td>\n",
       "      <td>42.30</td>\n",
       "      <td>1840.75</td>\n",
       "      <td>1</td>\n",
       "      <td>0</td>\n",
       "      <td>0</td>\n",
       "      <td>0</td>\n",
       "      <td>1</td>\n",
       "      <td>0</td>\n",
       "      <td>2</td>\n",
       "      <td>0</td>\n",
       "      <td>2</td>\n",
       "      <td>2</td>\n",
       "      <td>0</td>\n",
       "      <td>0</td>\n",
       "      <td>1</td>\n",
       "      <td>0</td>\n",
       "      <td>0</td>\n",
       "      <td>0</td>\n",
       "      <td>0</td>\n",
       "    </tr>\n",
       "    <tr>\n",
       "      <th>4</th>\n",
       "      <td>2</td>\n",
       "      <td>70.70</td>\n",
       "      <td>151.65</td>\n",
       "      <td>0</td>\n",
       "      <td>0</td>\n",
       "      <td>0</td>\n",
       "      <td>1</td>\n",
       "      <td>0</td>\n",
       "      <td>1</td>\n",
       "      <td>0</td>\n",
       "      <td>0</td>\n",
       "      <td>0</td>\n",
       "      <td>0</td>\n",
       "      <td>0</td>\n",
       "      <td>0</td>\n",
       "      <td>0</td>\n",
       "      <td>1</td>\n",
       "      <td>2</td>\n",
       "      <td>1</td>\n",
       "      <td>0</td>\n",
       "    </tr>\n",
       "  </tbody>\n",
       "</table>\n",
       "</div>"
      ],
      "text/plain": [
       "   tenure  MonthlyCharges  TotalCharges  gender  Partner  Dependents  \\\n",
       "0       1           29.85         29.85       0        1           0   \n",
       "1      34           56.95       1889.50       1        0           0   \n",
       "2       2           53.85        108.15       1        0           0   \n",
       "3      45           42.30       1840.75       1        0           0   \n",
       "4       2           70.70        151.65       0        0           0   \n",
       "\n",
       "   PhoneService  MultipleLines  InternetService  OnlineSecurity  OnlineBackup  \\\n",
       "0             0              1                0               0             2   \n",
       "1             1              0                0               2             0   \n",
       "2             1              0                0               2             2   \n",
       "3             0              1                0               2             0   \n",
       "4             1              0                1               0             0   \n",
       "\n",
       "   DeviceProtection  TechSupport  StreamingTV  StreamingMovies  Contract  \\\n",
       "0                 0            0            0                0         0   \n",
       "1                 2            0            0                0         1   \n",
       "2                 0            0            0                0         0   \n",
       "3                 2            2            0                0         1   \n",
       "4                 0            0            0                0         0   \n",
       "\n",
       "   PaperlessBilling  PaymentMethod  Churn  SeniorCitizen  \n",
       "0                 1              2      0              0  \n",
       "1                 0              3      0              0  \n",
       "2                 1              3      1              0  \n",
       "3                 0              0      0              0  \n",
       "4                 1              2      1              0  "
      ]
     },
     "execution_count": 78,
     "metadata": {},
     "output_type": "execute_result"
    }
   ],
   "source": [
    "combinedf.head()"
   ]
  },
  {
   "cell_type": "code",
   "execution_count": 79,
   "id": "c248e4c3",
   "metadata": {},
   "outputs": [
    {
     "data": {
      "text/plain": [
       "0    5163\n",
       "1    1869\n",
       "Name: Churn, dtype: int64"
      ]
     },
     "execution_count": 79,
     "metadata": {},
     "output_type": "execute_result"
    }
   ],
   "source": [
    "combinedf.Churn.value_counts()"
   ]
  },
  {
   "cell_type": "markdown",
   "id": "e7892c52",
   "metadata": {},
   "source": [
    "# SPILITING DATA INTO x & y"
   ]
  },
  {
   "cell_type": "code",
   "execution_count": 80,
   "id": "b6ccd469",
   "metadata": {},
   "outputs": [],
   "source": [
    "y=combinedf.Churn\n",
    "X=combinedf.drop(\"Churn\",axis=1)"
   ]
  },
  {
   "cell_type": "code",
   "execution_count": 81,
   "id": "232c9353",
   "metadata": {},
   "outputs": [],
   "source": [
    "from sklearn.model_selection import train_test_split"
   ]
  },
  {
   "cell_type": "code",
   "execution_count": 82,
   "id": "3ee92715",
   "metadata": {},
   "outputs": [],
   "source": [
    "X_train,X_test,y_train,y_test=train_test_split(X,y,test_size=0.3,random_state=1,stratify=y)"
   ]
  },
  {
   "cell_type": "markdown",
   "id": "1bab9a4f",
   "metadata": {},
   "source": [
    "# Logistic Regression "
   ]
  },
  {
   "cell_type": "code",
   "execution_count": 83,
   "id": "0cd7db5d",
   "metadata": {},
   "outputs": [],
   "source": [
    "from sklearn.linear_model import LogisticRegression"
   ]
  },
  {
   "cell_type": "code",
   "execution_count": 84,
   "id": "66e27697",
   "metadata": {},
   "outputs": [],
   "source": [
    "logreg=LogisticRegression(max_iter=1000)"
   ]
  },
  {
   "cell_type": "code",
   "execution_count": 85,
   "id": "9947e4e2",
   "metadata": {},
   "outputs": [],
   "source": [
    "logregmodel=logreg.fit(X_train,y_train)"
   ]
  },
  {
   "cell_type": "code",
   "execution_count": 86,
   "id": "97672c34",
   "metadata": {},
   "outputs": [
    {
     "data": {
      "text/plain": [
       "0.802519301097115"
      ]
     },
     "execution_count": 86,
     "metadata": {},
     "output_type": "execute_result"
    }
   ],
   "source": [
    "logregmodel.score(X_train,y_train) #Accuracy of train data=0.80"
   ]
  },
  {
   "cell_type": "code",
   "execution_count": 87,
   "id": "50208a48",
   "metadata": {},
   "outputs": [],
   "source": [
    "ypred=logregmodel.predict(X_test)"
   ]
  },
  {
   "cell_type": "code",
   "execution_count": 88,
   "id": "f8bf035d",
   "metadata": {},
   "outputs": [],
   "source": [
    "from sklearn.metrics import confusion_matrix,classification_report,accuracy_score"
   ]
  },
  {
   "cell_type": "code",
   "execution_count": 89,
   "id": "12da4d76",
   "metadata": {},
   "outputs": [
    {
     "data": {
      "text/plain": [
       "array([[1374,  246],\n",
       "       [ 175,  315]], dtype=int64)"
      ]
     },
     "execution_count": 89,
     "metadata": {},
     "output_type": "execute_result"
    }
   ],
   "source": [
    "confusion_matrix(ypred,y_test)"
   ]
  },
  {
   "cell_type": "code",
   "execution_count": 90,
   "id": "39638ad2",
   "metadata": {},
   "outputs": [
    {
     "name": "stdout",
     "output_type": "stream",
     "text": [
      "              precision    recall  f1-score   support\n",
      "\n",
      "           0       0.89      0.85      0.87      1620\n",
      "           1       0.56      0.64      0.60       490\n",
      "\n",
      "    accuracy                           0.80      2110\n",
      "   macro avg       0.72      0.75      0.73      2110\n",
      "weighted avg       0.81      0.80      0.80      2110\n",
      "\n"
     ]
    }
   ],
   "source": [
    "print(classification_report(ypred,y_test))"
   ]
  },
  {
   "cell_type": "code",
   "execution_count": 91,
   "id": "a2a28f81",
   "metadata": {},
   "outputs": [
    {
     "data": {
      "text/plain": [
       "0.8004739336492891"
      ]
     },
     "execution_count": 91,
     "metadata": {},
     "output_type": "execute_result"
    }
   ],
   "source": [
    "accuracy_score(y_test,ypred)"
   ]
  },
  {
   "cell_type": "code",
   "execution_count": 92,
   "id": "206148ef",
   "metadata": {},
   "outputs": [],
   "source": [
    "from sklearn.metrics import plot_roc_curve"
   ]
  },
  {
   "cell_type": "code",
   "execution_count": 93,
   "id": "e1571876",
   "metadata": {},
   "outputs": [
    {
     "data": {
      "text/plain": [
       "<sklearn.metrics._plot.roc_curve.RocCurveDisplay at 0x29908e54cd0>"
      ]
     },
     "execution_count": 93,
     "metadata": {},
     "output_type": "execute_result"
    },
    {
     "data": {
      "image/png": "[encoded data removed]",
      "text/plain": [
       "<Figure size 432x288 with 1 Axes>"
      ]
     },
     "metadata": {
      "needs_background": "light"
     },
     "output_type": "display_data"
    }
   ],
   "source": [
    "plot_roc_curve(logreg,X_train,y_train) ## AUC=0.85"
   ]
  },
  {
   "cell_type": "code",
   "execution_count": 94,
   "id": "0d139fae",
   "metadata": {},
   "outputs": [
    {
     "data": {
      "text/plain": [
       "<sklearn.metrics._plot.roc_curve.RocCurveDisplay at 0x29908febe50>"
      ]
     },
     "execution_count": 94,
     "metadata": {},
     "output_type": "execute_result"
    },
    {
     "data": {
      "image/png": "[encoded data removed]",
      "text/plain": [
       "<Figure size 432x288 with 1 Axes>"
      ]
     },
     "metadata": {
      "needs_background": "light"
     },
     "output_type": "display_data"
    }
   ],
   "source": [
    "plot_roc_curve(logreg,X_test,y_test)  # AUC=0.83"
   ]
  },
  {
   "cell_type": "markdown",
   "id": "9531c27b",
   "metadata": {},
   "source": [
    "# DECISION TREE"
   ]
  },
  {
   "cell_type": "code",
   "execution_count": 95,
   "id": "cc81a5fd",
   "metadata": {},
   "outputs": [],
   "source": [
    "from sklearn.tree import DecisionTreeClassifier"
   ]
  },
  {
   "cell_type": "code",
   "execution_count": 96,
   "id": "1f8c15e9",
   "metadata": {},
   "outputs": [],
   "source": [
    "tree=DecisionTreeClassifier()"
   ]
  },
  {
   "cell_type": "code",
   "execution_count": 97,
   "id": "dc56ca98",
   "metadata": {},
   "outputs": [],
   "source": [
    "treemodel=tree.fit(X_train,y_train)"
   ]
  },
  {
   "cell_type": "code",
   "execution_count": 98,
   "id": "fb888bcc",
   "metadata": {},
   "outputs": [
    {
     "data": {
      "text/plain": [
       "0.9973587972368956"
      ]
     },
     "execution_count": 98,
     "metadata": {},
     "output_type": "execute_result"
    }
   ],
   "source": [
    "treemodel.score(X_train,y_train) # Accuracy=0.99"
   ]
  },
  {
   "cell_type": "code",
   "execution_count": 99,
   "id": "e8cfe9a0",
   "metadata": {},
   "outputs": [],
   "source": [
    "ypred=treemodel.predict(X_test)"
   ]
  },
  {
   "cell_type": "code",
   "execution_count": 100,
   "id": "0d51c003",
   "metadata": {},
   "outputs": [
    {
     "data": {
      "text/plain": [
       "array([[1247,  281],\n",
       "       [ 302,  280]], dtype=int64)"
      ]
     },
     "execution_count": 100,
     "metadata": {},
     "output_type": "execute_result"
    }
   ],
   "source": [
    "confusion_matrix(ypred,y_test)"
   ]
  },
  {
   "cell_type": "code",
   "execution_count": 101,
   "id": "3c171d16",
   "metadata": {},
   "outputs": [
    {
     "name": "stdout",
     "output_type": "stream",
     "text": [
      "              precision    recall  f1-score   support\n",
      "\n",
      "           0       0.81      0.82      0.81      1528\n",
      "           1       0.50      0.48      0.49       582\n",
      "\n",
      "    accuracy                           0.72      2110\n",
      "   macro avg       0.65      0.65      0.65      2110\n",
      "weighted avg       0.72      0.72      0.72      2110\n",
      "\n"
     ]
    }
   ],
   "source": [
    "print(classification_report(ypred,y_test))"
   ]
  },
  {
   "cell_type": "code",
   "execution_count": 102,
   "id": "b4d67ccb",
   "metadata": {},
   "outputs": [
    {
     "data": {
      "text/plain": [
       "0.723696682464455"
      ]
     },
     "execution_count": 102,
     "metadata": {},
     "output_type": "execute_result"
    }
   ],
   "source": [
    "accuracy_score(y_test,ypred) # Accuracy of test data = 0.72"
   ]
  },
  {
   "cell_type": "code",
   "execution_count": 103,
   "id": "3e6b2811",
   "metadata": {},
   "outputs": [
    {
     "data": {
      "text/plain": [
       "<sklearn.metrics._plot.roc_curve.RocCurveDisplay at 0x29909233b20>"
      ]
     },
     "execution_count": 103,
     "metadata": {},
     "output_type": "execute_result"
    },
    {
     "data": {
      "image/png": "[encoded data removed]",
      "text/plain": [
       "<Figure size 432x288 with 1 Axes>"
      ]
     },
     "metadata": {
      "needs_background": "light"
     },
     "output_type": "display_data"
    }
   ],
   "source": [
    "plot_roc_curve(tree,X_train,y_train) ## AUC= 1"
   ]
  },
  {
   "cell_type": "code",
   "execution_count": 104,
   "id": "256b04b2",
   "metadata": {},
   "outputs": [
    {
     "data": {
      "text/plain": [
       "<sklearn.metrics._plot.roc_curve.RocCurveDisplay at 0x299087009d0>"
      ]
     },
     "execution_count": 104,
     "metadata": {},
     "output_type": "execute_result"
    },
    {
     "data": {
      "image/png": "[encoded data removed]",
      "text/plain": [
       "<Figure size 432x288 with 1 Axes>"
      ]
     },
     "metadata": {
      "needs_background": "light"
     },
     "output_type": "display_data"
    }
   ],
   "source": [
    "plot_roc_curve(tree,X_test,y_test) ## AUC= 0.65"
   ]
  },
  {
   "cell_type": "markdown",
   "id": "af19dd97",
   "metadata": {},
   "source": [
    "# RandomForest"
   ]
  },
  {
   "cell_type": "code",
   "execution_count": 105,
   "id": "45a7a4f8",
   "metadata": {},
   "outputs": [],
   "source": [
    "from sklearn.ensemble import RandomForestClassifier"
   ]
  },
  {
   "cell_type": "code",
   "execution_count": 106,
   "id": "11f31a2b",
   "metadata": {},
   "outputs": [],
   "source": [
    "rf=RandomForestClassifier()"
   ]
  },
  {
   "cell_type": "code",
   "execution_count": 107,
   "id": "1f1cd7fc",
   "metadata": {},
   "outputs": [],
   "source": [
    "rfmodel=rf.fit(X_train,y_train)"
   ]
  },
  {
   "cell_type": "code",
   "execution_count": 108,
   "id": "5aefefce",
   "metadata": {},
   "outputs": [
    {
     "data": {
      "text/plain": [
       "0.9973587972368956"
      ]
     },
     "execution_count": 108,
     "metadata": {},
     "output_type": "execute_result"
    }
   ],
   "source": [
    "rfmodel.score(X_train,y_train) # Accuracy=0.99"
   ]
  },
  {
   "cell_type": "code",
   "execution_count": 109,
   "id": "ba713e54",
   "metadata": {},
   "outputs": [],
   "source": [
    "ypred=rfmodel.predict(X_test)"
   ]
  },
  {
   "cell_type": "code",
   "execution_count": 110,
   "id": "8c505a20",
   "metadata": {},
   "outputs": [
    {
     "data": {
      "text/plain": [
       "array([[1385,  287],\n",
       "       [ 164,  274]], dtype=int64)"
      ]
     },
     "execution_count": 110,
     "metadata": {},
     "output_type": "execute_result"
    }
   ],
   "source": [
    "confusion_matrix(ypred,y_test)"
   ]
  },
  {
   "cell_type": "code",
   "execution_count": 111,
   "id": "6518bc10",
   "metadata": {},
   "outputs": [
    {
     "name": "stdout",
     "output_type": "stream",
     "text": [
      "              precision    recall  f1-score   support\n",
      "\n",
      "           0       0.89      0.83      0.86      1672\n",
      "           1       0.49      0.63      0.55       438\n",
      "\n",
      "    accuracy                           0.79      2110\n",
      "   macro avg       0.69      0.73      0.70      2110\n",
      "weighted avg       0.81      0.79      0.80      2110\n",
      "\n"
     ]
    }
   ],
   "source": [
    "print(classification_report(ypred,y_test))"
   ]
  },
  {
   "cell_type": "code",
   "execution_count": 112,
   "id": "0682b8e2",
   "metadata": {},
   "outputs": [
    {
     "data": {
      "text/plain": [
       "0.7862559241706161"
      ]
     },
     "execution_count": 112,
     "metadata": {},
     "output_type": "execute_result"
    }
   ],
   "source": [
    "accuracy_score(y_test,ypred) # Accuracy of test data= 0.78"
   ]
  },
  {
   "cell_type": "code",
   "execution_count": 113,
   "id": "b15bd518",
   "metadata": {},
   "outputs": [
    {
     "data": {
      "text/plain": [
       "<sklearn.metrics._plot.roc_curve.RocCurveDisplay at 0x2990923f040>"
      ]
     },
     "execution_count": 113,
     "metadata": {},
     "output_type": "execute_result"
    },
    {
     "data": {
      "image/png": "[encoded data removed]",
      "text/plain": [
       "<Figure size 432x288 with 1 Axes>"
      ]
     },
     "metadata": {
      "needs_background": "light"
     },
     "output_type": "display_data"
    }
   ],
   "source": [
    "plot_roc_curve(rfmodel,X_train,y_train) ## AUC= 1"
   ]
  },
  {
   "cell_type": "code",
   "execution_count": 114,
   "id": "83dfdec7",
   "metadata": {},
   "outputs": [
    {
     "data": {
      "text/plain": [
       "<sklearn.metrics._plot.roc_curve.RocCurveDisplay at 0x2990a3c0640>"
      ]
     },
     "execution_count": 114,
     "metadata": {},
     "output_type": "execute_result"
    },
    {
     "data": {
      "image/png": "[encoded data removed]",
      "text/plain": [
       "<Figure size 432x288 with 1 Axes>"
      ]
     },
     "metadata": {
      "needs_background": "light"
     },
     "output_type": "display_data"
    }
   ],
   "source": [
    "plot_roc_curve(rfmodel,X_test,y_test) ## AUC= 0.82"
   ]
  },
  {
   "cell_type": "markdown",
   "id": "ccb25ffe",
   "metadata": {},
   "source": [
    "# Gradient Boosting"
   ]
  },
  {
   "cell_type": "code",
   "execution_count": 115,
   "id": "fa4ed22e",
   "metadata": {},
   "outputs": [],
   "source": [
    "from sklearn.ensemble import GradientBoostingClassifier"
   ]
  },
  {
   "cell_type": "code",
   "execution_count": 116,
   "id": "9a3f162b",
   "metadata": {},
   "outputs": [],
   "source": [
    "gbm=GradientBoostingClassifier()"
   ]
  },
  {
   "cell_type": "code",
   "execution_count": 117,
   "id": "91c4bc27",
   "metadata": {},
   "outputs": [],
   "source": [
    "gbmmodel=gbm.fit(X_train,y_train)"
   ]
  },
  {
   "cell_type": "code",
   "execution_count": 118,
   "id": "4f0de5c1",
   "metadata": {},
   "outputs": [
    {
     "data": {
      "text/plain": [
       "0.8315725314912638"
      ]
     },
     "execution_count": 118,
     "metadata": {},
     "output_type": "execute_result"
    }
   ],
   "source": [
    "gbmmodel.score(X_train,y_train) # Accuracy=0.83"
   ]
  },
  {
   "cell_type": "code",
   "execution_count": 119,
   "id": "a74fc4a8",
   "metadata": {},
   "outputs": [],
   "source": [
    "ypred=gbmmodel.predict(X_test)"
   ]
  },
  {
   "cell_type": "code",
   "execution_count": 120,
   "id": "8dace906",
   "metadata": {},
   "outputs": [
    {
     "data": {
      "text/plain": [
       "array([[1407,  274],\n",
       "       [ 142,  287]], dtype=int64)"
      ]
     },
     "execution_count": 120,
     "metadata": {},
     "output_type": "execute_result"
    }
   ],
   "source": [
    "confusion_matrix(ypred,y_test)"
   ]
  },
  {
   "cell_type": "code",
   "execution_count": 121,
   "id": "53f41966",
   "metadata": {},
   "outputs": [
    {
     "name": "stdout",
     "output_type": "stream",
     "text": [
      "              precision    recall  f1-score   support\n",
      "\n",
      "           0       0.91      0.84      0.87      1681\n",
      "           1       0.51      0.67      0.58       429\n",
      "\n",
      "    accuracy                           0.80      2110\n",
      "   macro avg       0.71      0.75      0.73      2110\n",
      "weighted avg       0.83      0.80      0.81      2110\n",
      "\n"
     ]
    }
   ],
   "source": [
    "print(classification_report(ypred,y_test))"
   ]
  },
  {
   "cell_type": "code",
   "execution_count": 122,
   "id": "533f17a6",
   "metadata": {},
   "outputs": [
    {
     "data": {
      "text/plain": [
       "0.8028436018957346"
      ]
     },
     "execution_count": 122,
     "metadata": {},
     "output_type": "execute_result"
    }
   ],
   "source": [
    "accuracy_score(y_test,ypred) # Accuracy of test data= 0.80"
   ]
  },
  {
   "cell_type": "code",
   "execution_count": 123,
   "id": "ec2f7299",
   "metadata": {},
   "outputs": [
    {
     "data": {
      "text/plain": [
       "<sklearn.metrics._plot.roc_curve.RocCurveDisplay at 0x2990b46c3d0>"
      ]
     },
     "execution_count": 123,
     "metadata": {},
     "output_type": "execute_result"
    },
    {
     "data": {
      "image/png": "[encoded data removed]",
      "text/plain": [
       "<Figure size 432x288 with 1 Axes>"
      ]
     },
     "metadata": {
      "needs_background": "light"
     },
     "output_type": "display_data"
    }
   ],
   "source": [
    "plot_roc_curve(gbmmodel,X_train,y_train) ## AUC= 0.89"
   ]
  },
  {
   "cell_type": "code",
   "execution_count": 124,
   "id": "78557cb6",
   "metadata": {},
   "outputs": [
    {
     "data": {
      "text/plain": [
       "<sklearn.metrics._plot.roc_curve.RocCurveDisplay at 0x2990b498700>"
      ]
     },
     "execution_count": 124,
     "metadata": {},
     "output_type": "execute_result"
    },
    {
     "data": {
      "image/png": "[encoded data removed]",
      "text/plain": [
       "<Figure size 432x288 with 1 Axes>"
      ]
     },
     "metadata": {
      "needs_background": "light"
     },
     "output_type": "display_data"
    }
   ],
   "source": [
    "plot_roc_curve(gbmmodel,X_test,y_test) ## AUC= 0.84"
   ]
  },
  {
   "cell_type": "markdown",
   "id": "3c7df3d8",
   "metadata": {},
   "source": [
    "# Naive bayes"
   ]
  },
  {
   "cell_type": "code",
   "execution_count": 125,
   "id": "d0003c35",
   "metadata": {},
   "outputs": [],
   "source": [
    "from sklearn.naive_bayes import GaussianNB"
   ]
  },
  {
   "cell_type": "code",
   "execution_count": 126,
   "id": "b31820ca",
   "metadata": {},
   "outputs": [],
   "source": [
    "nb=GaussianNB()"
   ]
  },
  {
   "cell_type": "code",
   "execution_count": 127,
   "id": "9f4c4622",
   "metadata": {},
   "outputs": [],
   "source": [
    "nbmodel=nb.fit(X_train,y_train)"
   ]
  },
  {
   "cell_type": "code",
   "execution_count": 128,
   "id": "fb6c1b16",
   "metadata": {},
   "outputs": [
    {
     "data": {
      "text/plain": [
       "0.7557903291344982"
      ]
     },
     "execution_count": 128,
     "metadata": {},
     "output_type": "execute_result"
    }
   ],
   "source": [
    "nbmodel.score(X_train,y_train)  #Accuracy=0.75"
   ]
  },
  {
   "cell_type": "code",
   "execution_count": 129,
   "id": "6d702b73",
   "metadata": {},
   "outputs": [],
   "source": [
    "ypred=nbmodel.predict(X_test)"
   ]
  },
  {
   "cell_type": "code",
   "execution_count": 130,
   "id": "075f984f",
   "metadata": {},
   "outputs": [
    {
     "data": {
      "text/plain": [
       "array([[1165,  150],\n",
       "       [ 384,  411]], dtype=int64)"
      ]
     },
     "execution_count": 130,
     "metadata": {},
     "output_type": "execute_result"
    }
   ],
   "source": [
    "confusion_matrix(ypred,y_test)"
   ]
  },
  {
   "cell_type": "code",
   "execution_count": 131,
   "id": "bde49c3b",
   "metadata": {},
   "outputs": [
    {
     "name": "stdout",
     "output_type": "stream",
     "text": [
      "              precision    recall  f1-score   support\n",
      "\n",
      "           0       0.75      0.89      0.81      1315\n",
      "           1       0.73      0.52      0.61       795\n",
      "\n",
      "    accuracy                           0.75      2110\n",
      "   macro avg       0.74      0.70      0.71      2110\n",
      "weighted avg       0.74      0.75      0.74      2110\n",
      "\n"
     ]
    }
   ],
   "source": [
    "print(classification_report(ypred,y_test)) "
   ]
  },
  {
   "cell_type": "code",
   "execution_count": 132,
   "id": "a8ec5d3d",
   "metadata": {},
   "outputs": [
    {
     "data": {
      "text/plain": [
       "0.7469194312796209"
      ]
     },
     "execution_count": 132,
     "metadata": {},
     "output_type": "execute_result"
    }
   ],
   "source": [
    "accuracy_score(y_test,ypred) # Accuracy of test data= 0.74"
   ]
  },
  {
   "cell_type": "code",
   "execution_count": 133,
   "id": "78159d0f",
   "metadata": {},
   "outputs": [
    {
     "data": {
      "text/plain": [
       "<sklearn.metrics._plot.roc_curve.RocCurveDisplay at 0x2990b55d1c0>"
      ]
     },
     "execution_count": 133,
     "metadata": {},
     "output_type": "execute_result"
    },
    {
     "data": {
      "image/png": "[encoded data removed]",
      "text/plain": [
       "<Figure size 432x288 with 1 Axes>"
      ]
     },
     "metadata": {
      "needs_background": "light"
     },
     "output_type": "display_data"
    }
   ],
   "source": [
    "plot_roc_curve(nbmodel,X_train,y_train) ## AUC= 0.83"
   ]
  },
  {
   "cell_type": "code",
   "execution_count": 134,
   "id": "e80d0141",
   "metadata": {},
   "outputs": [
    {
     "data": {
      "text/plain": [
       "<sklearn.metrics._plot.roc_curve.RocCurveDisplay at 0x2990b4e3040>"
      ]
     },
     "execution_count": 134,
     "metadata": {},
     "output_type": "execute_result"
    },
    {
     "data": {
      "image/png": "[encoded data removed]",
      "text/plain": [
       "<Figure size 432x288 with 1 Axes>"
      ]
     },
     "metadata": {
      "needs_background": "light"
     },
     "output_type": "display_data"
    }
   ],
   "source": [
    "plot_roc_curve(nbmodel,X_test,y_test) #Auc= 0.82"
   ]
  },
  {
   "cell_type": "markdown",
   "id": "b34ce53a",
   "metadata": {},
   "source": [
    "# Neural Network"
   ]
  },
  {
   "cell_type": "code",
   "execution_count": 135,
   "id": "3588d86b",
   "metadata": {},
   "outputs": [],
   "source": [
    "from sklearn.neural_network import MLPClassifier"
   ]
  },
  {
   "cell_type": "code",
   "execution_count": 136,
   "id": "d1e13a6b",
   "metadata": {},
   "outputs": [],
   "source": [
    "mlp=MLPClassifier()"
   ]
  },
  {
   "cell_type": "code",
   "execution_count": 137,
   "id": "9bd2dfca",
   "metadata": {},
   "outputs": [],
   "source": [
    "mlpmodel=mlp.fit(X_train,y_train)"
   ]
  },
  {
   "cell_type": "code",
   "execution_count": 138,
   "id": "8b69a682",
   "metadata": {},
   "outputs": [
    {
     "data": {
      "text/plain": [
       "0.7885006095083299"
      ]
     },
     "execution_count": 138,
     "metadata": {},
     "output_type": "execute_result"
    }
   ],
   "source": [
    "mlpmodel.score(X_train,y_train)  #Accuracy=0.74"
   ]
  },
  {
   "cell_type": "code",
   "execution_count": 139,
   "id": "38b6964e",
   "metadata": {},
   "outputs": [],
   "source": [
    "ypred=mlpmodel.predict(X_test)"
   ]
  },
  {
   "cell_type": "code",
   "execution_count": 140,
   "id": "69ef84da",
   "metadata": {},
   "outputs": [
    {
     "data": {
      "text/plain": [
       "array([[1315,  212],\n",
       "       [ 234,  349]], dtype=int64)"
      ]
     },
     "execution_count": 140,
     "metadata": {},
     "output_type": "execute_result"
    }
   ],
   "source": [
    "confusion_matrix(ypred,y_test)"
   ]
  },
  {
   "cell_type": "code",
   "execution_count": 141,
   "id": "03157389",
   "metadata": {},
   "outputs": [
    {
     "name": "stdout",
     "output_type": "stream",
     "text": [
      "              precision    recall  f1-score   support\n",
      "\n",
      "           0       0.85      0.86      0.86      1527\n",
      "           1       0.62      0.60      0.61       583\n",
      "\n",
      "    accuracy                           0.79      2110\n",
      "   macro avg       0.74      0.73      0.73      2110\n",
      "weighted avg       0.79      0.79      0.79      2110\n",
      "\n"
     ]
    }
   ],
   "source": [
    "print(classification_report(ypred,y_test)) "
   ]
  },
  {
   "cell_type": "code",
   "execution_count": 142,
   "id": "825efe3d",
   "metadata": {},
   "outputs": [
    {
     "data": {
      "text/plain": [
       "0.7886255924170616"
      ]
     },
     "execution_count": 142,
     "metadata": {},
     "output_type": "execute_result"
    }
   ],
   "source": [
    "accuracy_score(y_test,ypred) # Accuracy of test data= 0.71"
   ]
  },
  {
   "cell_type": "code",
   "execution_count": 143,
   "id": "06a009d2",
   "metadata": {},
   "outputs": [
    {
     "data": {
      "text/plain": [
       "<sklearn.metrics._plot.roc_curve.RocCurveDisplay at 0x2990b5395b0>"
      ]
     },
     "execution_count": 143,
     "metadata": {},
     "output_type": "execute_result"
    },
    {
     "data": {
      "image/png": "[encoded data removed]",
      "text/plain": [
       "<Figure size 432x288 with 1 Axes>"
      ]
     },
     "metadata": {
      "needs_background": "light"
     },
     "output_type": "display_data"
    }
   ],
   "source": [
    "plot_roc_curve(mlpmodel,X_train,y_train) ## AUC= 0.83"
   ]
  },
  {
   "cell_type": "code",
   "execution_count": 144,
   "id": "a753f96c",
   "metadata": {},
   "outputs": [
    {
     "data": {
      "text/plain": [
       "<sklearn.metrics._plot.roc_curve.RocCurveDisplay at 0x2990b543a60>"
      ]
     },
     "execution_count": 144,
     "metadata": {},
     "output_type": "execute_result"
    },
    {
     "data": {
      "image/png": "[encoded data removed]",
      "text/plain": [
       "<Figure size 432x288 with 1 Axes>"
      ]
     },
     "metadata": {
      "needs_background": "light"
     },
     "output_type": "display_data"
    }
   ],
   "source": [
    "plot_roc_curve(mlpmodel,X_test,y_test) #AUC=0.82"
   ]
  },
  {
   "cell_type": "markdown",
   "id": "8b47071f",
   "metadata": {},
   "source": [
    "# Conclusion Table"
   ]
  },
  {
   "cell_type": "code",
   "execution_count": 145,
   "id": "1ec93e18",
   "metadata": {},
   "outputs": [],
   "source": [
    "MODELS = [[\"LogisticRegression\", logregmodel.score(X_train,y_train), logregmodel.score(X_test,y_test)],\n",
    "             [\"DecisionTreeClassifier\", treemodel.score(X_train,y_train),treemodel.score(X_test,y_test)],\n",
    "             [\"RandomForestClassifier\", rfmodel.score(X_train,y_train),rfmodel.score(X_test,y_test)],\n",
    "             [\"GradientBoostingClassifier\", gbmmodel.score(X_train,y_train),gbmmodel.score(X_test,y_test)],\n",
    "             [\"NaiveBayesClassifier\", nbmodel.score(X_train,y_train),nbmodel.score(X_test,y_test)],\n",
    "             [\"MLPClassifier\", mlpmodel.score(X_train,y_train),mlpmodel.score(X_test,y_test)]]"
   ]
  },
  {
   "cell_type": "code",
   "execution_count": 146,
   "id": "960e6f5a",
   "metadata": {},
   "outputs": [
    {
     "data": {
      "text/html": [
       "<div>\n",
       "<style scoped>\n",
       "    .dataframe tbody tr th:only-of-type {\n",
       "        vertical-align: middle;\n",
       "    }\n",
       "\n",
       "    .dataframe tbody tr th {\n",
       "        vertical-align: top;\n",
       "    }\n",
       "\n",
       "    .dataframe thead th {\n",
       "        text-align: right;\n",
       "    }\n",
       "</style>\n",
       "<table border=\"1\" class=\"dataframe\">\n",
       "  <thead>\n",
       "    <tr style=\"text-align: right;\">\n",
       "      <th></th>\n",
       "      <th>MODELS</th>\n",
       "      <th>Train_Accuracy</th>\n",
       "      <th>Test_Accuracy</th>\n",
       "    </tr>\n",
       "  </thead>\n",
       "  <tbody>\n",
       "    <tr>\n",
       "      <th>0</th>\n",
       "      <td>LogisticRegression</td>\n",
       "      <td>0.802519</td>\n",
       "      <td>0.800474</td>\n",
       "    </tr>\n",
       "    <tr>\n",
       "      <th>1</th>\n",
       "      <td>DecisionTreeClassifier</td>\n",
       "      <td>0.997359</td>\n",
       "      <td>0.723697</td>\n",
       "    </tr>\n",
       "    <tr>\n",
       "      <th>2</th>\n",
       "      <td>RandomForestClassifier</td>\n",
       "      <td>0.997359</td>\n",
       "      <td>0.786256</td>\n",
       "    </tr>\n",
       "    <tr>\n",
       "      <th>3</th>\n",
       "      <td>GradientBoostingClassifier</td>\n",
       "      <td>0.831573</td>\n",
       "      <td>0.802844</td>\n",
       "    </tr>\n",
       "    <tr>\n",
       "      <th>4</th>\n",
       "      <td>NaiveBayesClassifier</td>\n",
       "      <td>0.755790</td>\n",
       "      <td>0.746919</td>\n",
       "    </tr>\n",
       "    <tr>\n",
       "      <th>5</th>\n",
       "      <td>MLPClassifier</td>\n",
       "      <td>0.788501</td>\n",
       "      <td>0.788626</td>\n",
       "    </tr>\n",
       "  </tbody>\n",
       "</table>\n",
       "</div>"
      ],
      "text/plain": [
       "                       MODELS  Train_Accuracy  Test_Accuracy\n",
       "0          LogisticRegression        0.802519       0.800474\n",
       "1      DecisionTreeClassifier        0.997359       0.723697\n",
       "2      RandomForestClassifier        0.997359       0.786256\n",
       "3  GradientBoostingClassifier        0.831573       0.802844\n",
       "4        NaiveBayesClassifier        0.755790       0.746919\n",
       "5               MLPClassifier        0.788501       0.788626"
      ]
     },
     "execution_count": 146,
     "metadata": {},
     "output_type": "execute_result"
    }
   ],
   "source": [
    "pd.DataFrame(MODELS,columns=[\"MODELS\",\"Train_Accuracy\",\"Test_Accuracy\"])"
   ]
  },
  {
   "cell_type": "markdown",
   "id": "fbe93ad5",
   "metadata": {},
   "source": [
    "# So finally by looking to the above table we can conclude that both LogisticRegression & MLPClassifier is the best suit model for this Dataset."
   ]
  }
 ],
 "metadata": {
  "kernelspec": {
   "display_name": "Python 3 (ipykernel)",
   "language": "python",
   "name": "python3"
  },
  "language_info": {
   "codemirror_mode": {
    "name": "ipython",
    "version": 3
   },
   "file_extension": ".py",
   "mimetype": "text/x-python",
   "name": "python",
   "nbconvert_exporter": "python",
   "pygments_lexer": "ipython3",
   "version": "3.9.7"
  }
 },
 "nbformat": 4,
 "nbformat_minor": 5
}
